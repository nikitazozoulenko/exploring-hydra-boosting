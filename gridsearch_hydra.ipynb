{
 "cells": [
  {
   "cell_type": "markdown",
   "metadata": {},
   "source": [
    "# Cluster/local configs"
   ]
  },
  {
   "cell_type": "code",
   "execution_count": null,
   "metadata": {},
   "outputs": [],
   "source": [
    "# If on cluster, cwd is '/rds/general/user/nz423', not the project directory, breaking imports\n",
    "import os\n",
    "import sys\n",
    "from pathlib import Path\n",
    "\n",
    "project_dir = Path(os.getcwd()) / \"exploring-hydra-boosting\"\n",
    "if \"rds\" not in project_dir.parts:\n",
    "    project_dir = project_dir.parent\n",
    "    datasets_dir = project_dir.parent.parent / \"Data\"\n",
    "else:\n",
    "    datasets_dir = project_dir / \"DATASETS\"\n",
    "    if str(project_dir) not in sys.path:\n",
    "        sys.path.append(str(project_dir))\n",
    "    \n",
    "class Config:\n",
    "    project_dir = project_dir\n",
    "    TSER_dir = datasets_dir / \"TSER\"\n",
    "    BigTSC_dir = datasets_dir / \"BigTSC\"\n",
    "    UTSC_dir = datasets_dir / \"UTSC\"\n",
    "\n",
    "print(Config.project_dir)\n",
    "print(Config.TSER_dir)\n",
    "print(Config.BigTSC_dir)\n",
    "print(Config.UTSC_dir)"
   ]
  },
  {
   "cell_type": "markdown",
   "metadata": {},
   "source": [
    "# Code for running test"
   ]
  },
  {
   "cell_type": "code",
   "execution_count": null,
   "metadata": {},
   "outputs": [],
   "source": [
    "\n"
   ]
  },
  {
   "cell_type": "markdown",
   "metadata": {},
   "source": [
    "# Simple Wrapper no gridsearch"
   ]
  },
  {
   "cell_type": "code",
   "execution_count": null,
   "metadata": {},
   "outputs": [],
   "source": [
    "# class TSMLWrapperHydraBoost(RegressorMixin, BaseTimeSeriesEstimator):\n",
    "    \n",
    "#     def __init__(self, **kwargs):\n",
    "#         super(TSMLWrapperHydraBoost, self).__init__()\n",
    "#         self.hydraboost = HydraBoost(\n",
    "#             n_layers=1,\n",
    "#             init_n_kernels=8,\n",
    "#             init_n_groups=64,\n",
    "#             n_kernels=8,\n",
    "#             n_groups=64,\n",
    "#             max_num_channels=3,\n",
    "#             hydra_batch_size=10000,\n",
    "#             l2_reg=10,\n",
    "#             l2_ghat=0.1,\n",
    "#             boost_lr=1,\n",
    "#             train_top_at = [0, 5, 10],\n",
    "#             **kwargs\n",
    "#         )\n",
    "        \n",
    "\n",
    "#     def fit(self, X: np.ndarray, y: np.ndarray) -> object:\n",
    "#         \"\"\"Fit the estimator to training data.\n",
    "\n",
    "#         Parameters\n",
    "#         ----------\n",
    "#         X : 3D np.ndarray of shape (n_instances, n_channels, n_timepoints)\n",
    "#             The training data.\n",
    "#         y : 1D np.ndarray of shape (n_instances)\n",
    "#             The target labels for fitting, indices correspond to instance indices in X\n",
    "\n",
    "#         Returns\n",
    "#         -------\n",
    "#         self :\n",
    "#             Reference to self.\n",
    "#         \"\"\"\n",
    "#         X = torch.from_numpy(X).float()\n",
    "#         y = torch.from_numpy(y).float()\n",
    "#         y = y.unsqueeze(1)\n",
    "#         self.X_mean = X.mean()\n",
    "#         self.X_std = X.std()\n",
    "#         self.y_mean = y.mean()\n",
    "#         self.y_std = y.std()\n",
    "#         X = (X - self.X_mean) / self.X_std\n",
    "#         y = (y - self.y_mean) / self.y_std\n",
    "#         self.hydraboost.fit(X, y)\n",
    "#         return self\n",
    "\n",
    "\n",
    "#     def predict(self, X: np.ndarray) -> np.ndarray:\n",
    "#         \"\"\"Predicts labels for sequences in X.\n",
    "\n",
    "#         Parameters\n",
    "#         ----------\n",
    "#         X : 3D np.ndarray of shape (n_instances, n_channels, n_timepoints)\n",
    "#             The training data.\n",
    "\n",
    "#         Returns\n",
    "#         -------\n",
    "#         y : array-like of shape (n_instances)\n",
    "#             Predicted target labels.\n",
    "#         \"\"\"\n",
    "#         X = torch.from_numpy(X).float()\n",
    "#         X = (X - self.X_mean) / self.X_std\n",
    "#         pred = self.hydraboost(X)\n",
    "#         pred = pred * self.y_std + self.y_mean\n",
    "#         return pred.squeeze().detach().numpy()\n",
    "        \n",
    "        \n",
    "\n",
    "#     def _more_tags(self) -> dict:\n",
    "#         return {\n",
    "#             \"X_types\": [\"3darray\"],\n",
    "#             \"equal_length_only\": True,\n",
    "#             \"allow_nan\": False,\n",
    "#         }"
   ]
  },
  {
   "cell_type": "code",
   "execution_count": null,
   "metadata": {},
   "outputs": [],
   "source": [
    "# test_regressor(\n",
    "#     regressor = TSMLWrapperHydraBoost(),\n",
    "#     regressor_name = \"HydraBoost\",\n",
    "# )"
   ]
  },
  {
   "cell_type": "markdown",
   "metadata": {},
   "source": [
    "# Gridsearch Wrapper"
   ]
  },
  {
   "cell_type": "code",
   "execution_count": null,
   "metadata": {},
   "outputs": [],
   "source": [
    "from run_regression_gridsearch import test_regressor, TSMLGridSearchWrapper\n",
    "from models.random_feature_representation_boosting import HydraBoost\n",
    "\n",
    "\n",
    "test_regressor(\n",
    "    regressor_name = \"HydraBoostGridSearchHoldout\",\n",
    "    regressor = TSMLGridSearchWrapper(\n",
    "                \"holdout\",\n",
    "                seed=0,\n",
    "                device=\"cpu\",\n",
    "                modelClass=HydraBoost,\n",
    "                model_param_grid={\n",
    "                    \"n_layers\": [1],          \n",
    "                    \"init_n_kernels\": [8],\n",
    "                    \"init_n_groups\": [64],\n",
    "                    \"n_kernels\": [8],\n",
    "                    \"n_groups\": [64],\n",
    "                    \"max_num_channels\": [3],\n",
    "                    \"hydra_batch_size\": [10000],\n",
    "                    \"l2_reg\": [0.01],               \n",
    "                    \"l2_ghat\": [0.01],         \n",
    "                    \"boost_lr\": [0.5],\n",
    "                },\n",
    "                ),\n",
    "    dataset_name = \"HouseholdPowerConsumption1\",\n",
    "    TSER_data_dir = Config.TSER_dir,\n",
    "    results_dir = Config.project_dir / \"results\",\n",
    "    resample_id=0,\n",
    ")\n"
   ]
  },
  {
   "cell_type": "code",
   "execution_count": null,
   "metadata": {},
   "outputs": [],
   "source": [
    "# !python run_regression_gridsearch.py \\\n",
    "#     --dataset_indices 0 \\\n",
    "#     --resample_ids 0 \\\n",
    "#     --results_dir \"C:\\\\Users\\\\nz423\\\\Code\\\\exploring-hydra-boosting\\\\results\" \\\n",
    "#     --TSER_dir \"C:\\\\Users\\\\nz423\\\\Data\\\\TSER\" \\\n",
    "#     --device \"cpu\" \\\n",
    "#     --seed 0"
   ]
  }
 ],
 "metadata": {
  "kernelspec": {
   "display_name": ".venv",
   "language": "python",
   "name": "python3"
  },
  "language_info": {
   "codemirror_mode": {
    "name": "ipython",
    "version": 3
   },
   "file_extension": ".py",
   "mimetype": "text/x-python",
   "name": "python",
   "nbconvert_exporter": "python",
   "pygments_lexer": "ipython3",
   "version": "3.11.9"
  }
 },
 "nbformat": 4,
 "nbformat_minor": 2
}
