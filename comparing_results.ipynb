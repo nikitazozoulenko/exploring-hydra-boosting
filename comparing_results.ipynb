{
 "cells": [
  {
   "cell_type": "code",
   "execution_count": 4,
   "metadata": {},
   "outputs": [
    {
     "name": "stdout",
     "output_type": "stream",
     "text": [
      "current_dir c:\\Users\\nz423\\Code\\exploring-hydra-boosting\n",
      "TSER_data_dir c:\\Users\\nz423\\Data\\TSER\n"
     ]
    }
   ],
   "source": [
    "from typing import Tuple, List, Union, Any, Optional, Dict, Literal, Callable\n",
    "import time\n",
    "import os\n",
    "import sys\n",
    "import pathlib\n",
    "from pathlib import Path\n",
    "\n",
    "current_dir = Path(os.getcwd())\n",
    "TSER_data_dir = current_dir.parent.parent / \"Data\" / \"TSER\"\n",
    "print(\"current_dir\", current_dir)\n",
    "print(\"TSER_data_dir\", TSER_data_dir)\n",
    "\n",
    "import numpy as np\n",
    "import aeon\n",
    "import torch\n",
    "from torch import Tensor\n",
    "import torch.nn as nn\n",
    "import torch.functional as F\n",
    "import pandas as pd\n",
    "from aeon.datasets.tser_datasets import tser_soton; tser_soton = sorted(list(tser_soton))\n",
    "from aeon.datasets import load_regression\n",
    "from sklearn.metrics import root_mean_squared_error\n",
    "from sklearn.linear_model import RidgeCV\n",
    "from tqdm import tqdm\n",
    "np.set_printoptions(precision=3, threshold=5) # Print options"
   ]
  },
  {
   "cell_type": "code",
   "execution_count": 5,
   "metadata": {},
   "outputs": [],
   "source": [
    "# from aeon.benchmarking.results_loaders import get_available_estimators\n",
    "\n",
    "# get_available_estimators(task=\"classification\")"
   ]
  },
  {
   "cell_type": "code",
   "execution_count": 6,
   "metadata": {},
   "outputs": [],
   "source": [
    "# get_available_estimators(task=\"regression\")"
   ]
  },
  {
   "cell_type": "markdown",
   "metadata": {},
   "source": [
    "# Download dataset"
   ]
  },
  {
   "cell_type": "code",
   "execution_count": 7,
   "metadata": {},
   "outputs": [],
   "source": [
    "import requests\n",
    "from bs4 import BeautifulSoup\n",
    "import os\n",
    "\n",
    "def download_files(\n",
    "        base_url: str, \n",
    "        target_dirs: List[str], \n",
    "        root_files: List[str] = [], \n",
    "        save_path: str = \"downloaded_files\"\n",
    "    ):\n",
    "    \"\"\"\n",
    "    Downloads files from a website with a nested directory structure.\n",
    "\n",
    "    Args:\n",
    "        base_url: The base URL of the website.\n",
    "        target_dirs: A list of directories to download files from.\n",
    "        root_files: A list of files to download from the root directory.\n",
    "        save_path: The local path to save the downloaded files.\n",
    "    \"\"\"\n",
    "\n",
    "    response = requests.get(base_url)\n",
    "    response.raise_for_status()  # Raise an exception for bad status codes\n",
    "\n",
    "    soup = BeautifulSoup(response.content, 'html.parser')\n",
    "\n",
    "    # Create a directory to store downloaded files\n",
    "    if not os.path.exists(save_path):\n",
    "        os.makedirs(save_path)\n",
    "\n",
    "    # Download files from the root directory\n",
    "    for file_name in root_files:\n",
    "        file_url = base_url + file_name\n",
    "        download_file(file_url, save_path)\n",
    "\n",
    "    # Find all links to directories\n",
    "    for link in soup.find_all('a', href=True):\n",
    "        dir_name = link['href']\n",
    "        if dir_name.endswith('/') and dir_name[:-1] in target_dirs:\n",
    "            dir_url = base_url + dir_name\n",
    "            download_files_in_dir(dir_url, os.path.join(save_path, dir_name[:-1]))\n",
    "\n",
    "def download_files_in_dir(dir_url, save_path):\n",
    "    \"\"\"\n",
    "    Downloads all CSV files within a specific directory.\n",
    "\n",
    "    Args:\n",
    "        dir_url: The URL of the directory.\n",
    "        save_path: The local path to save the downloaded files.\n",
    "    \"\"\"\n",
    "\n",
    "    response = requests.get(dir_url)\n",
    "    response.raise_for_status()\n",
    "\n",
    "    soup = BeautifulSoup(response.content, 'html.parser')\n",
    "\n",
    "    if not os.path.exists(save_path):\n",
    "        os.makedirs(save_path)\n",
    "\n",
    "    for link in soup.find_all('a', href=True):\n",
    "        file_name = link['href']\n",
    "        if file_name.endswith('.csv'):\n",
    "            file_url = dir_url + file_name\n",
    "            download_file(file_url, save_path)\n",
    "\n",
    "def download_file(file_url, save_path):\n",
    "    \"\"\"\n",
    "    Downloads a single file.\n",
    "\n",
    "    Args:\n",
    "        file_url: The URL of the file to download.\n",
    "        save_path: The local path to save the downloaded file.\n",
    "    \"\"\"\n",
    "\n",
    "    try:\n",
    "        response = requests.get(file_url, stream=True)\n",
    "        response.raise_for_status()\n",
    "\n",
    "        file_name = os.path.basename(file_url)\n",
    "        local_file_path = os.path.join(save_path, file_name)\n",
    "\n",
    "        with open(local_file_path, 'wb') as f:\n",
    "            for chunk in response.iter_content(chunk_size=8192):\n",
    "                f.write(chunk)\n",
    "\n",
    "        print(f\"Downloaded: {file_name}\")\n",
    "    except requests.exceptions.RequestException as e:\n",
    "        print(f\"Error downloading {file_url}: {e}\")\n",
    "\n",
    "# download_files(\n",
    "#     base_url = \"https://timeseriesclassification.com/results/ReferenceResults/regression/\", \n",
    "#     target_dirs = [\"fittime\", \"mae\", \"mape\", \"mse\", \"predicttime\", \"r2\", \"rmse\"], \n",
    "#     root_files = [\"estimators.txt\"],\n",
    "#     save_path = \"data/bench_regression_TSER/regression\"\n",
    "#     )"
   ]
  },
  {
   "cell_type": "markdown",
   "metadata": {},
   "source": [
    "# Regressor"
   ]
  },
  {
   "cell_type": "code",
   "execution_count": 8,
   "metadata": {},
   "outputs": [],
   "source": [
    "import numpy as np\n",
    "import pandas as pd\n",
    "from aeon.benchmarking.results_loaders import get_estimator_results\n",
    "from aeon.datasets import load_regression\n",
    "from aeon.regression import DummyRegressor\n",
    "from aeon.visualisation import plot_critical_difference\n",
    "from sklearn.metrics import mean_squared_error\n",
    "from tsml.datasets import load_minimal_gas_prices\n",
    "from aeon.datasets.tser_datasets import tser_soton; tser_soton = sorted(list(tser_soton))\n",
    "\n",
    "from tsml_eval.evaluation.storage import load_regressor_results\n",
    "from tsml_eval.experiments import (\n",
    "    experiments,\n",
    "    get_regressor_by_name,\n",
    "    run_regression_experiment,\n",
    ")\n",
    "# print(\"TSER\", \"len\", len(tser_soton), tser_soton)"
   ]
  },
  {
   "cell_type": "code",
   "execution_count": 9,
   "metadata": {},
   "outputs": [],
   "source": [
    "# available regressors\n"
   ]
  },
  {
   "cell_type": "code",
   "execution_count": 10,
   "metadata": {},
   "outputs": [
    {
     "name": "stdout",
     "output_type": "stream",
     "text": [
      "(95, 24, 144) (95,) (42, 24, 144) (42,)\n"
     ]
    }
   ],
   "source": [
    "from load_datasets import get_aeon_dataset\n",
    "dataset_name = \"AppliancesEnergy\"\n",
    "X_train, y_train, X_test, y_test = get_aeon_dataset(dataset_name, TSER_data_dir, \"regression\")\n",
    "X_train = X_train.astype(np.float64) # TODO bug otherwise with other built in methods\n",
    "y_train = y_train.astype(np.float64)\n",
    "X_test = X_test.astype(np.float64)\n",
    "y_test = y_test.astype(np.float64)\n",
    "print(X_train.shape, y_train.shape, X_test.shape, y_test.shape)"
   ]
  },
  {
   "cell_type": "code",
   "execution_count": 11,
   "metadata": {},
   "outputs": [
    {
     "data": {
      "text/plain": [
       "14.165578957607872"
      ]
     },
     "execution_count": 11,
     "metadata": {},
     "output_type": "execute_result"
    }
   ],
   "source": [
    "np.mean(y_train)"
   ]
  },
  {
   "cell_type": "code",
   "execution_count": 12,
   "metadata": {},
   "outputs": [
    {
     "name": "stdout",
     "output_type": "stream",
     "text": [
      "[14.166 14.166 14.166 ... 14.166 14.166 14.166]\n",
      "11.936329995508089 mse\n",
      "3.454899419014697 rmse\n",
      "0.2081789804516575 mape\n",
      "-0.009647554479544684 r2\n"
     ]
    },
    {
     "name": "stderr",
     "output_type": "stream",
     "text": [
      "c:\\Users\\nz423\\Code\\exploring-hydra-boosting\\.venv\\Lib\\site-packages\\sklearn\\metrics\\_regression.py:483: FutureWarning: 'squared' is deprecated in version 1.4 and will be removed in 1.6. To calculate the root mean squared error, use the function'root_mean_squared_error'.\n",
      "  warnings.warn(\n"
     ]
    }
   ],
   "source": [
    "# set_regressor can be used to find various regressors by string, but\n",
    "# any aeon, tsml or sklearn regressor can be used in the experiments function\n",
    "regressor = get_regressor_by_name(\"DummyRegressor\")\n",
    "\n",
    "# record memory usage every 0.1 seconds, just here for notebook speed\n",
    "# does not need to be changed for usage\n",
    "experiments.MEMRECORD_INTERVAL = 0.1\n",
    "\n",
    "run_regression_experiment(\n",
    "    X_train,\n",
    "    y_train,\n",
    "    X_test,\n",
    "    y_test,\n",
    "    regressor,\n",
    "    \"results/\",\n",
    "    dataset_name=dataset_name,\n",
    "    resample_id=0,\n",
    ")\n",
    "\n",
    "rr = load_regressor_results(\n",
    "    current_dir / \"results\" / \"DummyRegressor\" / \"Predictions\" / dataset_name / \"testResample0.csv\"\n",
    ")\n",
    "print(rr.predictions)\n",
    "print(rr.mean_squared_error, \"mse\")\n",
    "print(rr.root_mean_squared_error, \"rmse\")\n",
    "print(rr.mean_absolute_percentage_error, \"mape\")\n",
    "print(rr.r2_score, \"r2\")"
   ]
  },
  {
   "cell_type": "code",
   "execution_count": 13,
   "metadata": {},
   "outputs": [
    {
     "name": "stdout",
     "output_type": "stream",
     "text": [
      "[14.613 16.505 10.464 ... 12.494 12.797 14.221]\n",
      "6.156641824138414 mse\n",
      "2.4812581131632423 rmse\n",
      "0.14898847242253552 mape\n",
      "0.47923370383634933 r2\n"
     ]
    },
    {
     "name": "stderr",
     "output_type": "stream",
     "text": [
      "c:\\Users\\nz423\\Code\\exploring-hydra-boosting\\.venv\\Lib\\site-packages\\sklearn\\metrics\\_regression.py:483: FutureWarning: 'squared' is deprecated in version 1.4 and will be removed in 1.6. To calculate the root mean squared error, use the function'root_mean_squared_error'.\n",
      "  warnings.warn(\n"
     ]
    }
   ],
   "source": [
    "# set_regressor can be used to find various regressors by string, but\n",
    "# any aeon, tsml or sklearn regressor can be used in the experiments function\n",
    "regressor = get_regressor_by_name(\"multirockethydra\")\n",
    "\n",
    "# record memory usage every 0.1 seconds, just here for notebook speed\n",
    "# does not need to be changed for usage\n",
    "experiments.MEMRECORD_INTERVAL = 0.1\n",
    "\n",
    "run_regression_experiment(\n",
    "    X_train,\n",
    "    y_train,\n",
    "    X_test,\n",
    "    y_test,\n",
    "    regressor,\n",
    "    \"results/\",\n",
    "    dataset_name=dataset_name,\n",
    "    resample_id=0,\n",
    ")\n",
    "\n",
    "rr = load_regressor_results(\n",
    "    current_dir / \"results\" / \"MultiRocketHydraRegressor\" / \"Predictions\" / dataset_name / \"testResample0.csv\"\n",
    ")\n",
    "print(rr.predictions)\n",
    "print(rr.mean_squared_error, \"mse\")\n",
    "print(rr.root_mean_squared_error, \"rmse\")\n",
    "print(rr.mean_absolute_percentage_error, \"mape\")\n",
    "print(rr.r2_score, \"r2\")"
   ]
  },
  {
   "cell_type": "markdown",
   "metadata": {},
   "source": [
    "## benchmark against other"
   ]
  },
  {
   "cell_type": "code",
   "execution_count": 20,
   "metadata": {},
   "outputs": [
    {
     "data": {
      "text/plain": [
       "{'InceptionT': {'CardanoSentiment': 0.3790249345482153,\n",
       "  'Covid3Month': 0.0547486330011963,\n",
       "  'FloodModeling1': 0.0066867519847921,\n",
       "  'FloodModeling2': 0.0043589524619258,\n",
       "  'NaturalGasPricesSentiment': 0.2406518450482171,\n",
       "  'HouseholdPowerConsumption1': 151.88483357207497},\n",
       " 'FreshPRINCE': {'CardanoSentiment': 0.2894787944853637,\n",
       "  'Covid3Month': 0.0401913023459625,\n",
       "  'FloodModeling1': 0.0049994162451307,\n",
       "  'FloodModeling2': 0.0068567616393676,\n",
       "  'NaturalGasPricesSentiment': 0.054954074837973,\n",
       "  'HouseholdPowerConsumption1': 146.95849199150507},\n",
       " 'DrCIF': {'CardanoSentiment': 0.3133879847892337,\n",
       "  'Covid3Month': 0.0430093286336655,\n",
       "  'FloodModeling1': 0.0060619965978605,\n",
       "  'FloodModeling2': 0.0061042553512311,\n",
       "  'NaturalGasPricesSentiment': 0.0534594028311273,\n",
       "  'HouseholdPowerConsumption1': 152.61924482476638},\n",
       " 'Rocket': {'CardanoSentiment': 0.298395630925008,\n",
       "  'Covid3Month': 0.0388925990110909,\n",
       "  'FloodModeling1': 0.0138775273981996,\n",
       "  'FloodModeling2': 0.0113401395341792,\n",
       "  'NaturalGasPricesSentiment': 0.0916109339971527,\n",
       "  'HouseholdPowerConsumption1': 243.98270711724007},\n",
       " 'RandF': {'CardanoSentiment': 0.3006768361627177,\n",
       "  'Covid3Month': 0.0425468061355052,\n",
       "  'FloodModeling1': 0.0158628246563847,\n",
       "  'FloodModeling2': 0.0144429711114909,\n",
       "  'NaturalGasPricesSentiment': 0.048485461103978,\n",
       "  'HouseholdPowerConsumption1': 246.6727406493557},\n",
       " 'RotF': {'CardanoSentiment': 0.3223837225629858,\n",
       "  'Covid3Month': 0.0464330708041165,\n",
       "  'FloodModeling1': 0.0162800602238164,\n",
       "  'FloodModeling2': 0.0082871990314018,\n",
       "  'NaturalGasPricesSentiment': 0.053092033693262,\n",
       "  'HouseholdPowerConsumption1': 227.88386737972377},\n",
       " 'XGBoost': {'CardanoSentiment': 0.3559531169404237,\n",
       "  'Covid3Month': 0.0455056686738088,\n",
       "  'FloodModeling1': 0.0162402874754935,\n",
       "  'FloodModeling2': 0.0182975378559483,\n",
       "  'NaturalGasPricesSentiment': 0.0502096334691803,\n",
       "  'HouseholdPowerConsumption1': 242.0387533229944},\n",
       " 'Ridge': {'CardanoSentiment': 0.3890525427440788,\n",
       "  'Covid3Month': 0.482443462117518,\n",
       "  'FloodModeling1': 0.0180430972048682,\n",
       "  'FloodModeling2': 0.0190695858325751,\n",
       "  'NaturalGasPricesSentiment': 0.0758712858958666,\n",
       "  'HouseholdPowerConsumption1': 164.31163447428716}}"
      ]
     },
     "execution_count": 20,
     "metadata": {},
     "output_type": "execute_result"
    }
   ],
   "source": [
    "datasets = [\n",
    "    \"CardanoSentiment\",\n",
    "    \"Covid3Month\",\n",
    "    \"FloodModeling1\",\n",
    "    \"FloodModeling2\",\n",
    "    \"NaturalGasPricesSentiment\",\n",
    "    #\"MethaneMonitoringHomeActivity\",\n",
    "    \"HouseholdPowerConsumption1\",\n",
    "    #\"AustraliaRainfall\"\n",
    "]\n",
    "\n",
    "estimators = [\"InceptionT\", \"FreshPRINCE\", \"DrCIF\", \"Rocket\", \"RandF\", \"RotF\", \"XGBoost\", \"Ridge\"] #\"MultiRocket\"\n",
    "benchmarks = get_estimator_results(\n",
    "    datasets=datasets, estimators=estimators, task=\"regression\", measure=\"rmse\", path = current_dir / \"data\" / \"bench_regression_TSER\"\n",
    ")\n",
    "\n",
    "def add_regressor_to_benchmarks(\n",
    "    model_name: str,\n",
    "    regressor,\n",
    "    benchmarks: Dict,\n",
    "    ):\n",
    "    results = {}\n",
    "    for d in datasets:\n",
    "        train_X, train_y = load_regression(d, split=\"train\")\n",
    "        test_X, test_y = load_regression(d, split=\"test\")\n",
    "        regressor.fit(train_X, train_y)\n",
    "        y_pred = regressor.predict(test_X)\n",
    "        results[d] = root_mean_squared_error(test_y, y_pred)\n",
    "    benchmarks[model_name] = results\n",
    "    return results\n",
    "\n",
    "benchmarks"
   ]
  },
  {
   "cell_type": "code",
   "execution_count": 21,
   "metadata": {},
   "outputs": [
    {
     "data": {
      "text/plain": [
       "{'CardanoSentiment': 0.3002608403259928,\n",
       " 'Covid3Month': 0.04471992368682529,\n",
       " 'FloodModeling1': 0.018863328807814914,\n",
       " 'FloodModeling2': 0.018547996598852055,\n",
       " 'NaturalGasPricesSentiment': 0.09023204999410936,\n",
       " 'HouseholdPowerConsumption1': 521.1154897160502}"
      ]
     },
     "execution_count": 21,
     "metadata": {},
     "output_type": "execute_result"
    }
   ],
   "source": [
    "add_regressor_to_benchmarks(\"Dummy\", DummyRegressor(), benchmarks) "
   ]
  },
  {
   "cell_type": "code",
   "execution_count": 22,
   "metadata": {},
   "outputs": [
    {
     "ename": "KeyboardInterrupt",
     "evalue": "",
     "output_type": "error",
     "traceback": [
      "\u001b[1;31m---------------------------------------------------------------------------\u001b[0m",
      "\u001b[1;31mKeyboardInterrupt\u001b[0m                         Traceback (most recent call last)",
      "Cell \u001b[1;32mIn[22], line 1\u001b[0m\n\u001b[1;32m----> 1\u001b[0m \u001b[43madd_regressor_to_benchmarks\u001b[49m\u001b[43m(\u001b[49m\u001b[38;5;124;43m\"\u001b[39;49m\u001b[38;5;124;43mmultirockethydra\u001b[39;49m\u001b[38;5;124;43m\"\u001b[39;49m\u001b[43m,\u001b[49m\u001b[43m \u001b[49m\u001b[43mget_regressor_by_name\u001b[49m\u001b[43m(\u001b[49m\u001b[38;5;124;43m\"\u001b[39;49m\u001b[38;5;124;43mmultirockethydra\u001b[39;49m\u001b[38;5;124;43m\"\u001b[39;49m\u001b[43m)\u001b[49m\u001b[43m,\u001b[49m\u001b[43m \u001b[49m\u001b[43mbenchmarks\u001b[49m\u001b[43m)\u001b[49m \n",
      "Cell \u001b[1;32mIn[20], line 27\u001b[0m, in \u001b[0;36madd_regressor_to_benchmarks\u001b[1;34m(model_name, regressor, benchmarks)\u001b[0m\n\u001b[0;32m     25\u001b[0m     test_X, test_y \u001b[38;5;241m=\u001b[39m load_regression(d, split\u001b[38;5;241m=\u001b[39m\u001b[38;5;124m\"\u001b[39m\u001b[38;5;124mtest\u001b[39m\u001b[38;5;124m\"\u001b[39m)\n\u001b[0;32m     26\u001b[0m     regressor\u001b[38;5;241m.\u001b[39mfit(train_X, train_y)\n\u001b[1;32m---> 27\u001b[0m     y_pred \u001b[38;5;241m=\u001b[39m \u001b[43mregressor\u001b[49m\u001b[38;5;241;43m.\u001b[39;49m\u001b[43mpredict\u001b[49m\u001b[43m(\u001b[49m\u001b[43mtest_X\u001b[49m\u001b[43m)\u001b[49m\n\u001b[0;32m     28\u001b[0m     results[d] \u001b[38;5;241m=\u001b[39m root_mean_squared_error(test_y, y_pred)\n\u001b[0;32m     29\u001b[0m benchmarks[model_name] \u001b[38;5;241m=\u001b[39m results\n",
      "File \u001b[1;32mc:\\Users\\nz423\\Code\\exploring-hydra-boosting\\.venv\\Lib\\site-packages\\aeon\\regression\\base.py:159\u001b[0m, in \u001b[0;36mBaseRegressor.predict\u001b[1;34m(self, X)\u001b[0m\n\u001b[0;32m    157\u001b[0m X \u001b[38;5;241m=\u001b[39m \u001b[38;5;28mself\u001b[39m\u001b[38;5;241m.\u001b[39m_preprocess_collection(X, store_metadata\u001b[38;5;241m=\u001b[39m\u001b[38;5;28;01mFalse\u001b[39;00m)\n\u001b[0;32m    158\u001b[0m \u001b[38;5;28mself\u001b[39m\u001b[38;5;241m.\u001b[39m_check_shape(X)\n\u001b[1;32m--> 159\u001b[0m \u001b[38;5;28;01mreturn\u001b[39;00m \u001b[38;5;28;43mself\u001b[39;49m\u001b[38;5;241;43m.\u001b[39;49m\u001b[43m_predict\u001b[49m\u001b[43m(\u001b[49m\u001b[43mX\u001b[49m\u001b[43m)\u001b[49m\n",
      "File \u001b[1;32mc:\\Users\\nz423\\Code\\exploring-hydra-boosting\\.venv\\Lib\\site-packages\\aeon\\regression\\convolution_based\\_mr_hydra.py:104\u001b[0m, in \u001b[0;36mMultiRocketHydraRegressor._predict\u001b[1;34m(self, X)\u001b[0m\n\u001b[0;32m    103\u001b[0m \u001b[38;5;28;01mdef\u001b[39;00m\u001b[38;5;250m \u001b[39m\u001b[38;5;21m_predict\u001b[39m(\u001b[38;5;28mself\u001b[39m, X) \u001b[38;5;241m-\u001b[39m\u001b[38;5;241m>\u001b[39m np\u001b[38;5;241m.\u001b[39mndarray:\n\u001b[1;32m--> 104\u001b[0m     Xt_hydra \u001b[38;5;241m=\u001b[39m \u001b[38;5;28;43mself\u001b[39;49m\u001b[38;5;241;43m.\u001b[39;49m\u001b[43m_transform_hydra\u001b[49m\u001b[38;5;241;43m.\u001b[39;49m\u001b[43mtransform\u001b[49m\u001b[43m(\u001b[49m\u001b[43mX\u001b[49m\u001b[43m)\u001b[49m\n\u001b[0;32m    105\u001b[0m     Xt_hydra \u001b[38;5;241m=\u001b[39m \u001b[38;5;28mself\u001b[39m\u001b[38;5;241m.\u001b[39m_scale_hydra\u001b[38;5;241m.\u001b[39mtransform(Xt_hydra)\n\u001b[0;32m    107\u001b[0m     Xt_multirocket \u001b[38;5;241m=\u001b[39m \u001b[38;5;28mself\u001b[39m\u001b[38;5;241m.\u001b[39m_transform_multirocket\u001b[38;5;241m.\u001b[39mtransform(X)\n",
      "File \u001b[1;32mc:\\Users\\nz423\\Code\\exploring-hydra-boosting\\.venv\\Lib\\site-packages\\aeon\\transformations\\collection\\base.py:159\u001b[0m, in \u001b[0;36mBaseCollectionTransformer.transform\u001b[1;34m(self, X, y)\u001b[0m\n\u001b[0;32m    156\u001b[0m \u001b[38;5;28;01mif\u001b[39;00m \u001b[38;5;129;01mnot\u001b[39;00m \u001b[38;5;28mself\u001b[39m\u001b[38;5;241m.\u001b[39mget_tag(\u001b[38;5;124m\"\u001b[39m\u001b[38;5;124mfit_is_empty\u001b[39m\u001b[38;5;124m\"\u001b[39m):\n\u001b[0;32m    157\u001b[0m     \u001b[38;5;28mself\u001b[39m\u001b[38;5;241m.\u001b[39m_check_shape(X)\n\u001b[1;32m--> 159\u001b[0m Xt \u001b[38;5;241m=\u001b[39m \u001b[38;5;28;43mself\u001b[39;49m\u001b[38;5;241;43m.\u001b[39;49m\u001b[43m_transform\u001b[49m\u001b[43m(\u001b[49m\u001b[43mX\u001b[49m\u001b[38;5;241;43m=\u001b[39;49m\u001b[43mX_inner\u001b[49m\u001b[43m,\u001b[49m\u001b[43m \u001b[49m\u001b[43my\u001b[49m\u001b[38;5;241;43m=\u001b[39;49m\u001b[43my_inner\u001b[49m\u001b[43m)\u001b[49m\n\u001b[0;32m    161\u001b[0m \u001b[38;5;28;01mreturn\u001b[39;00m Xt\n",
      "File \u001b[1;32mc:\\Users\\nz423\\Code\\exploring-hydra-boosting\\.venv\\Lib\\site-packages\\aeon\\transformations\\collection\\convolution_based\\_hydra.py:102\u001b[0m, in \u001b[0;36mHydraTransformer._transform\u001b[1;34m(self, X, y)\u001b[0m\n\u001b[0;32m    101\u001b[0m \u001b[38;5;28;01mdef\u001b[39;00m\u001b[38;5;250m \u001b[39m\u001b[38;5;21m_transform\u001b[39m(\u001b[38;5;28mself\u001b[39m, X, y\u001b[38;5;241m=\u001b[39m\u001b[38;5;28;01mNone\u001b[39;00m):\n\u001b[1;32m--> 102\u001b[0m     \u001b[38;5;28;01mreturn\u001b[39;00m \u001b[38;5;28;43mself\u001b[39;49m\u001b[38;5;241;43m.\u001b[39;49m\u001b[43m_hydra\u001b[49m\u001b[43m(\u001b[49m\u001b[43mtorch\u001b[49m\u001b[38;5;241;43m.\u001b[39;49m\u001b[43mtensor\u001b[49m\u001b[43m(\u001b[49m\u001b[43mX\u001b[49m\u001b[43m)\u001b[49m\u001b[38;5;241;43m.\u001b[39;49m\u001b[43mfloat\u001b[49m\u001b[43m(\u001b[49m\u001b[43m)\u001b[49m\u001b[43m)\u001b[49m\n",
      "File \u001b[1;32mc:\\Users\\nz423\\Code\\exploring-hydra-boosting\\.venv\\Lib\\site-packages\\torch\\nn\\modules\\module.py:1739\u001b[0m, in \u001b[0;36mModule._wrapped_call_impl\u001b[1;34m(self, *args, **kwargs)\u001b[0m\n\u001b[0;32m   1737\u001b[0m     \u001b[38;5;28;01mreturn\u001b[39;00m \u001b[38;5;28mself\u001b[39m\u001b[38;5;241m.\u001b[39m_compiled_call_impl(\u001b[38;5;241m*\u001b[39margs, \u001b[38;5;241m*\u001b[39m\u001b[38;5;241m*\u001b[39mkwargs)  \u001b[38;5;66;03m# type: ignore[misc]\u001b[39;00m\n\u001b[0;32m   1738\u001b[0m \u001b[38;5;28;01melse\u001b[39;00m:\n\u001b[1;32m-> 1739\u001b[0m     \u001b[38;5;28;01mreturn\u001b[39;00m \u001b[38;5;28;43mself\u001b[39;49m\u001b[38;5;241;43m.\u001b[39;49m\u001b[43m_call_impl\u001b[49m\u001b[43m(\u001b[49m\u001b[38;5;241;43m*\u001b[39;49m\u001b[43margs\u001b[49m\u001b[43m,\u001b[49m\u001b[43m \u001b[49m\u001b[38;5;241;43m*\u001b[39;49m\u001b[38;5;241;43m*\u001b[39;49m\u001b[43mkwargs\u001b[49m\u001b[43m)\u001b[49m\n",
      "File \u001b[1;32mc:\\Users\\nz423\\Code\\exploring-hydra-boosting\\.venv\\Lib\\site-packages\\torch\\nn\\modules\\module.py:1750\u001b[0m, in \u001b[0;36mModule._call_impl\u001b[1;34m(self, *args, **kwargs)\u001b[0m\n\u001b[0;32m   1745\u001b[0m \u001b[38;5;66;03m# If we don't have any hooks, we want to skip the rest of the logic in\u001b[39;00m\n\u001b[0;32m   1746\u001b[0m \u001b[38;5;66;03m# this function, and just call forward.\u001b[39;00m\n\u001b[0;32m   1747\u001b[0m \u001b[38;5;28;01mif\u001b[39;00m \u001b[38;5;129;01mnot\u001b[39;00m (\u001b[38;5;28mself\u001b[39m\u001b[38;5;241m.\u001b[39m_backward_hooks \u001b[38;5;129;01mor\u001b[39;00m \u001b[38;5;28mself\u001b[39m\u001b[38;5;241m.\u001b[39m_backward_pre_hooks \u001b[38;5;129;01mor\u001b[39;00m \u001b[38;5;28mself\u001b[39m\u001b[38;5;241m.\u001b[39m_forward_hooks \u001b[38;5;129;01mor\u001b[39;00m \u001b[38;5;28mself\u001b[39m\u001b[38;5;241m.\u001b[39m_forward_pre_hooks\n\u001b[0;32m   1748\u001b[0m         \u001b[38;5;129;01mor\u001b[39;00m _global_backward_pre_hooks \u001b[38;5;129;01mor\u001b[39;00m _global_backward_hooks\n\u001b[0;32m   1749\u001b[0m         \u001b[38;5;129;01mor\u001b[39;00m _global_forward_hooks \u001b[38;5;129;01mor\u001b[39;00m _global_forward_pre_hooks):\n\u001b[1;32m-> 1750\u001b[0m     \u001b[38;5;28;01mreturn\u001b[39;00m \u001b[43mforward_call\u001b[49m\u001b[43m(\u001b[49m\u001b[38;5;241;43m*\u001b[39;49m\u001b[43margs\u001b[49m\u001b[43m,\u001b[49m\u001b[43m \u001b[49m\u001b[38;5;241;43m*\u001b[39;49m\u001b[38;5;241;43m*\u001b[39;49m\u001b[43mkwargs\u001b[49m\u001b[43m)\u001b[49m\n\u001b[0;32m   1752\u001b[0m result \u001b[38;5;241m=\u001b[39m \u001b[38;5;28;01mNone\u001b[39;00m\n\u001b[0;32m   1753\u001b[0m called_always_called_hooks \u001b[38;5;241m=\u001b[39m \u001b[38;5;28mset\u001b[39m()\n",
      "File \u001b[1;32mc:\\Users\\nz423\\Code\\exploring-hydra-boosting\\.venv\\Lib\\site-packages\\aeon\\transformations\\collection\\convolution_based\\_hydra.py:169\u001b[0m, in \u001b[0;36m_HydraInternal.forward\u001b[1;34m(self, X)\u001b[0m\n\u001b[0;32m    167\u001b[0m \u001b[38;5;28;01mfor\u001b[39;00m diff_index \u001b[38;5;129;01min\u001b[39;00m \u001b[38;5;28mrange\u001b[39m(\u001b[38;5;28mself\u001b[39m\u001b[38;5;241m.\u001b[39mdivisor):\n\u001b[0;32m    168\u001b[0m     \u001b[38;5;28;01mif\u001b[39;00m n_channels \u001b[38;5;241m>\u001b[39m \u001b[38;5;241m1\u001b[39m:  \u001b[38;5;66;03m# Multivariate\u001b[39;00m\n\u001b[1;32m--> 169\u001b[0m         _Z \u001b[38;5;241m=\u001b[39m \u001b[43mF\u001b[49m\u001b[38;5;241;43m.\u001b[39;49m\u001b[43mconv1d\u001b[49m\u001b[43m(\u001b[49m\n\u001b[0;32m    170\u001b[0m \u001b[43m            \u001b[49m\u001b[43m(\u001b[49m\n\u001b[0;32m    171\u001b[0m \u001b[43m                \u001b[49m\u001b[43mX\u001b[49m\u001b[43m[\u001b[49m\u001b[43m:\u001b[49m\u001b[43m,\u001b[49m\u001b[43m \u001b[49m\u001b[38;5;28;43mself\u001b[39;49m\u001b[38;5;241;43m.\u001b[39;49m\u001b[43midx\u001b[49m\u001b[43m[\u001b[49m\u001b[43mdilation_index\u001b[49m\u001b[43m]\u001b[49m\u001b[43m[\u001b[49m\u001b[43mdiff_index\u001b[49m\u001b[43m]\u001b[49m\u001b[43m]\u001b[49m\u001b[38;5;241;43m.\u001b[39;49m\u001b[43msum\u001b[49m\u001b[43m(\u001b[49m\u001b[38;5;241;43m2\u001b[39;49m\u001b[43m)\u001b[49m\n\u001b[0;32m    172\u001b[0m \u001b[43m                \u001b[49m\u001b[38;5;28;43;01mif\u001b[39;49;00m\u001b[43m \u001b[49m\u001b[43mdiff_index\u001b[49m\u001b[43m \u001b[49m\u001b[38;5;241;43m==\u001b[39;49m\u001b[43m \u001b[49m\u001b[38;5;241;43m0\u001b[39;49m\n\u001b[0;32m    173\u001b[0m \u001b[43m                \u001b[49m\u001b[38;5;28;43;01melse\u001b[39;49;00m\u001b[43m \u001b[49m\u001b[43mdiff_X\u001b[49m\u001b[43m[\u001b[49m\n\u001b[0;32m    174\u001b[0m \u001b[43m                    \u001b[49m\u001b[43m:\u001b[49m\u001b[43m,\u001b[49m\u001b[43m \u001b[49m\u001b[38;5;28;43mself\u001b[39;49m\u001b[38;5;241;43m.\u001b[39;49m\u001b[43midx\u001b[49m\u001b[43m[\u001b[49m\u001b[43mdilation_index\u001b[49m\u001b[43m]\u001b[49m\u001b[43m[\u001b[49m\u001b[43mdiff_index\u001b[49m\u001b[43m]\u001b[49m\n\u001b[0;32m    175\u001b[0m \u001b[43m                \u001b[49m\u001b[43m]\u001b[49m\u001b[38;5;241;43m.\u001b[39;49m\u001b[43msum\u001b[49m\u001b[43m(\u001b[49m\u001b[38;5;241;43m2\u001b[39;49m\u001b[43m)\u001b[49m\n\u001b[0;32m    176\u001b[0m \u001b[43m            \u001b[49m\u001b[43m)\u001b[49m\u001b[43m,\u001b[49m\n\u001b[0;32m    177\u001b[0m \u001b[43m            \u001b[49m\u001b[38;5;28;43mself\u001b[39;49m\u001b[38;5;241;43m.\u001b[39;49m\u001b[43mW\u001b[49m\u001b[43m[\u001b[49m\u001b[43mdilation_index\u001b[49m\u001b[43m]\u001b[49m\u001b[43m[\u001b[49m\u001b[43mdiff_index\u001b[49m\u001b[43m]\u001b[49m\u001b[43m,\u001b[49m\n\u001b[0;32m    178\u001b[0m \u001b[43m            \u001b[49m\u001b[43mdilation\u001b[49m\u001b[38;5;241;43m=\u001b[39;49m\u001b[43md\u001b[49m\u001b[43m,\u001b[49m\n\u001b[0;32m    179\u001b[0m \u001b[43m            \u001b[49m\u001b[43mpadding\u001b[49m\u001b[38;5;241;43m=\u001b[39;49m\u001b[43mp\u001b[49m\u001b[43m,\u001b[49m\n\u001b[0;32m    180\u001b[0m \u001b[43m            \u001b[49m\u001b[43mgroups\u001b[49m\u001b[38;5;241;43m=\u001b[39;49m\u001b[38;5;28;43mself\u001b[39;49m\u001b[38;5;241;43m.\u001b[39;49m\u001b[43mh\u001b[49m\u001b[43m,\u001b[49m\n\u001b[0;32m    181\u001b[0m \u001b[43m        \u001b[49m\u001b[43m)\u001b[49m\u001b[38;5;241m.\u001b[39mview(n_examples, \u001b[38;5;28mself\u001b[39m\u001b[38;5;241m.\u001b[39mh, \u001b[38;5;28mself\u001b[39m\u001b[38;5;241m.\u001b[39mk, \u001b[38;5;241m-\u001b[39m\u001b[38;5;241m1\u001b[39m)\n\u001b[0;32m    182\u001b[0m     \u001b[38;5;28;01melse\u001b[39;00m:  \u001b[38;5;66;03m# Univariate\u001b[39;00m\n\u001b[0;32m    183\u001b[0m         _Z \u001b[38;5;241m=\u001b[39m F\u001b[38;5;241m.\u001b[39mconv1d(\n\u001b[0;32m    184\u001b[0m             X \u001b[38;5;28;01mif\u001b[39;00m diff_index \u001b[38;5;241m==\u001b[39m \u001b[38;5;241m0\u001b[39m \u001b[38;5;28;01melse\u001b[39;00m diff_X,\n\u001b[0;32m    185\u001b[0m             \u001b[38;5;28mself\u001b[39m\u001b[38;5;241m.\u001b[39mW[dilation_index, diff_index],\n\u001b[0;32m    186\u001b[0m             dilation\u001b[38;5;241m=\u001b[39md,\n\u001b[0;32m    187\u001b[0m             padding\u001b[38;5;241m=\u001b[39mp,\n\u001b[0;32m    188\u001b[0m         )\u001b[38;5;241m.\u001b[39mview(n_examples, \u001b[38;5;28mself\u001b[39m\u001b[38;5;241m.\u001b[39mh, \u001b[38;5;28mself\u001b[39m\u001b[38;5;241m.\u001b[39mk, \u001b[38;5;241m-\u001b[39m\u001b[38;5;241m1\u001b[39m)\n",
      "\u001b[1;31mKeyboardInterrupt\u001b[0m: "
     ]
    }
   ],
   "source": [
    "add_regressor_to_benchmarks(\"multirockethydra\", get_regressor_by_name(\"multirockethydra\"), benchmarks) "
   ]
  },
  {
   "cell_type": "code",
   "execution_count": 23,
   "metadata": {},
   "outputs": [
    {
     "data": {
      "text/html": [
       "<div>\n",
       "<style scoped>\n",
       "    .dataframe tbody tr th:only-of-type {\n",
       "        vertical-align: middle;\n",
       "    }\n",
       "\n",
       "    .dataframe tbody tr th {\n",
       "        vertical-align: top;\n",
       "    }\n",
       "\n",
       "    .dataframe thead th {\n",
       "        text-align: right;\n",
       "    }\n",
       "</style>\n",
       "<table border=\"1\" class=\"dataframe\">\n",
       "  <thead>\n",
       "    <tr style=\"text-align: right;\">\n",
       "      <th></th>\n",
       "      <th>InceptionT</th>\n",
       "      <th>FreshPRINCE</th>\n",
       "      <th>DrCIF</th>\n",
       "      <th>Rocket</th>\n",
       "      <th>RandF</th>\n",
       "      <th>RotF</th>\n",
       "      <th>XGBoost</th>\n",
       "      <th>Ridge</th>\n",
       "      <th>Dummy</th>\n",
       "    </tr>\n",
       "  </thead>\n",
       "  <tbody>\n",
       "    <tr>\n",
       "      <th>CardanoSentiment</th>\n",
       "      <td>0.379025</td>\n",
       "      <td>0.289479</td>\n",
       "      <td>0.313388</td>\n",
       "      <td>0.298396</td>\n",
       "      <td>0.300677</td>\n",
       "      <td>0.322384</td>\n",
       "      <td>0.355953</td>\n",
       "      <td>0.389053</td>\n",
       "      <td>0.300261</td>\n",
       "    </tr>\n",
       "    <tr>\n",
       "      <th>Covid3Month</th>\n",
       "      <td>0.054749</td>\n",
       "      <td>0.040191</td>\n",
       "      <td>0.043009</td>\n",
       "      <td>0.038893</td>\n",
       "      <td>0.042547</td>\n",
       "      <td>0.046433</td>\n",
       "      <td>0.045506</td>\n",
       "      <td>0.482443</td>\n",
       "      <td>0.044720</td>\n",
       "    </tr>\n",
       "    <tr>\n",
       "      <th>FloodModeling1</th>\n",
       "      <td>0.006687</td>\n",
       "      <td>0.004999</td>\n",
       "      <td>0.006062</td>\n",
       "      <td>0.013878</td>\n",
       "      <td>0.015863</td>\n",
       "      <td>0.016280</td>\n",
       "      <td>0.016240</td>\n",
       "      <td>0.018043</td>\n",
       "      <td>0.018863</td>\n",
       "    </tr>\n",
       "    <tr>\n",
       "      <th>FloodModeling2</th>\n",
       "      <td>0.004359</td>\n",
       "      <td>0.006857</td>\n",
       "      <td>0.006104</td>\n",
       "      <td>0.011340</td>\n",
       "      <td>0.014443</td>\n",
       "      <td>0.008287</td>\n",
       "      <td>0.018298</td>\n",
       "      <td>0.019070</td>\n",
       "      <td>0.018548</td>\n",
       "    </tr>\n",
       "    <tr>\n",
       "      <th>NaturalGasPricesSentiment</th>\n",
       "      <td>0.240652</td>\n",
       "      <td>0.054954</td>\n",
       "      <td>0.053459</td>\n",
       "      <td>0.091611</td>\n",
       "      <td>0.048485</td>\n",
       "      <td>0.053092</td>\n",
       "      <td>0.050210</td>\n",
       "      <td>0.075871</td>\n",
       "      <td>0.090232</td>\n",
       "    </tr>\n",
       "    <tr>\n",
       "      <th>HouseholdPowerConsumption1</th>\n",
       "      <td>151.884834</td>\n",
       "      <td>146.958492</td>\n",
       "      <td>152.619245</td>\n",
       "      <td>243.982707</td>\n",
       "      <td>246.672741</td>\n",
       "      <td>227.883867</td>\n",
       "      <td>242.038753</td>\n",
       "      <td>164.311634</td>\n",
       "      <td>521.115490</td>\n",
       "    </tr>\n",
       "  </tbody>\n",
       "</table>\n",
       "</div>"
      ],
      "text/plain": [
       "                            InceptionT  FreshPRINCE       DrCIF      Rocket  \\\n",
       "CardanoSentiment              0.379025     0.289479    0.313388    0.298396   \n",
       "Covid3Month                   0.054749     0.040191    0.043009    0.038893   \n",
       "FloodModeling1                0.006687     0.004999    0.006062    0.013878   \n",
       "FloodModeling2                0.004359     0.006857    0.006104    0.011340   \n",
       "NaturalGasPricesSentiment     0.240652     0.054954    0.053459    0.091611   \n",
       "HouseholdPowerConsumption1  151.884834   146.958492  152.619245  243.982707   \n",
       "\n",
       "                                 RandF        RotF     XGBoost       Ridge  \\\n",
       "CardanoSentiment              0.300677    0.322384    0.355953    0.389053   \n",
       "Covid3Month                   0.042547    0.046433    0.045506    0.482443   \n",
       "FloodModeling1                0.015863    0.016280    0.016240    0.018043   \n",
       "FloodModeling2                0.014443    0.008287    0.018298    0.019070   \n",
       "NaturalGasPricesSentiment     0.048485    0.053092    0.050210    0.075871   \n",
       "HouseholdPowerConsumption1  246.672741  227.883867  242.038753  164.311634   \n",
       "\n",
       "                                 Dummy  \n",
       "CardanoSentiment              0.300261  \n",
       "Covid3Month                   0.044720  \n",
       "FloodModeling1                0.018863  \n",
       "FloodModeling2                0.018548  \n",
       "NaturalGasPricesSentiment     0.090232  \n",
       "HouseholdPowerConsumption1  521.115490  "
      ]
     },
     "execution_count": 23,
     "metadata": {},
     "output_type": "execute_result"
    }
   ],
   "source": [
    "\n",
    "table = pd.DataFrame(benchmarks)\n",
    "table"
   ]
  },
  {
   "cell_type": "code",
   "execution_count": null,
   "metadata": {},
   "outputs": [
    {
     "name": "stderr",
     "output_type": "stream",
     "text": [
      "C:\\Users\\nz423\\AppData\\Local\\Temp\\ipykernel_8028\\418295115.py:4: UserWarning: FigureCanvasAgg is non-interactive, and thus cannot be shown\n",
      "  plt.show()\n"
     ]
    },
    {
     "data": {
      "image/png": "[encoded data removed]",
      "text/plain": [
       "<Figure size 600x290 with 1 Axes>"
      ]
     },
     "metadata": {},
     "output_type": "display_data"
    }
   ],
   "source": [
    "plt, _ = plot_critical_difference(\n",
    "    np.array(table), list(table.columns), lower_better=True\n",
    ")\n",
    "plt.show()"
   ]
  },
  {
   "cell_type": "markdown",
   "metadata": {},
   "source": [
    "# Classifier"
   ]
  },
  {
   "cell_type": "code",
   "execution_count": 19,
   "metadata": {},
   "outputs": [],
   "source": [
    "# TODO whats the proper way to load the TSC results? same library?"
   ]
  },
  {
   "cell_type": "markdown",
   "metadata": {},
   "source": [
    "# Make my own class\n",
    "\n",
    "\n",
    "\n",
    "Features:\n",
    "* For now only do wide not deep representation boosting\n",
    "* percentage of dataset to be used at each boosting iteration\n",
    "* Batching to calculate random features\n",
    "* Do i need batching for least squares?\n",
    "* What solver to use for least squares?\n",
    "* How to initialize Phi_0? Should i use different n_features for the initial guess? Use all data for initial?\n",
    "\n",
    "\n",
    "\n",
    "Would be interesting to see difference between boosting in label space vs representation boosting"
   ]
  },
  {
   "cell_type": "markdown",
   "metadata": {},
   "source": []
  }
 ],
 "metadata": {
  "kernelspec": {
   "display_name": ".venv",
   "language": "python",
   "name": "python3"
  },
  "language_info": {
   "codemirror_mode": {
    "name": "ipython",
    "version": 3
   },
   "file_extension": ".py",
   "mimetype": "text/x-python",
   "name": "python",
   "nbconvert_exporter": "python",
   "pygments_lexer": "ipython3",
   "version": "3.11.9"
  }
 },
 "nbformat": 4,
 "nbformat_minor": 2
}
