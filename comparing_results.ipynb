{
 "cells": [
  {
   "cell_type": "code",
   "execution_count": null,
   "metadata": {},
   "outputs": [
    {
     "name": "stdout",
     "output_type": "stream",
     "text": [
      "current_dir c:\\Users\\nz423\\Code\\exploring-hydra-boosting\n",
      "TSER_data_dir c:\\Users\\nz423\\Data\\TSER\n"
     ]
    }
   ],
   "source": [
    "from typing import Tuple, List, Union, Any, Optional, Dict, Literal, Callable\n",
    "import time\n",
    "import os\n",
    "import sys\n",
    "import pathlib\n",
    "from pathlib import Path\n",
    "\n",
    "current_dir = Path(os.getcwd())\n",
    "TSER_data_dir = current_dir.parent.parent / \"Data\" / \"TSER\"\n",
    "print(\"current_dir\", current_dir)\n",
    "print(\"TSER_data_dir\", TSER_data_dir)\n",
    "\n",
    "import numpy as np\n",
    "import aeon\n",
    "import torch\n",
    "from torch import Tensor\n",
    "import torch.nn as nn\n",
    "import torch.functional as F\n",
    "import pandas as pd\n",
    "from aeon.datasets.tser_datasets import tser_soton; tser_soton = sorted(list(tser_soton))\n",
    "from aeon.datasets import load_regression\n",
    "from sklearn.metrics import root_mean_squared_error\n",
    "from sklearn.linear_model import RidgeCV\n",
    "from tqdm import tqdm\n",
    "np.set_printoptions(precision=3, threshold=5) # Print options"
   ]
  },
  {
   "cell_type": "markdown",
   "metadata": {},
   "source": [
    "# Regressor"
   ]
  },
  {
   "cell_type": "code",
   "execution_count": null,
   "metadata": {},
   "outputs": [
    {
     "name": "stderr",
     "output_type": "stream",
     "text": [
      "c:\\Users\\nz423\\Code\\exploring-hydra-boosting\\.venv\\Lib\\site-packages\\aeon\\base\\__init__.py:24: FutureWarning: The aeon package will soon be releasing v1.0.0 with the removal of legacy modules and interfaces such as BaseTransformer and BaseForecaster. This will contain breaking changes. See aeon-toolkit.org for more information. Set aeon.AEON_DEPRECATION_WARNING or the AEON_DEPRECATION_WARNING environmental variable to 'False' to disable this warning.\n",
      "  warnings.warn(\n"
     ]
    }
   ],
   "source": [
    "import numpy as np\n",
    "import pandas as pd\n",
    "from aeon.benchmarking.results_loaders import get_estimator_results\n",
    "from aeon.datasets import load_regression\n",
    "from aeon.regression import DummyRegressor\n",
    "from aeon.visualisation import plot_critical_difference\n",
    "from sklearn.metrics import mean_squared_error\n",
    "from tsml.datasets import load_minimal_gas_prices\n",
    "from aeon.datasets.tser_datasets import tser_soton; tser_soton = sorted(list(tser_soton))\n",
    "\n",
    "from tsml_eval.evaluation.storage import load_regressor_results\n",
    "from tsml_eval.experiments import (\n",
    "    experiments,\n",
    "    get_regressor_by_name,\n",
    "    run_regression_experiment,\n",
    ")\n",
    "\n",
    "# print(\"TSER\", \"len\", len(tser_soton), tser_soton)"
   ]
  },
  {
   "cell_type": "code",
   "execution_count": null,
   "metadata": {},
   "outputs": [],
   "source": [
    "# available regressors\n"
   ]
  },
  {
   "cell_type": "code",
   "execution_count": null,
   "metadata": {},
   "outputs": [],
   "source": [
    "from load_datasets import get_aeon_dataset\n",
    "dataset_name = \"AppliancesEnergy\"\n",
    "X_train, y_train, X_test, y_test = get_aeon_dataset(dataset_name, TSER_data_dir, \"regression\")\n",
    "X_train = X_train.astype(np.float64) # TODO bug otherwise with other built in methods\n",
    "y_train = y_train.astype(np.float64)\n",
    "X_test = X_test.astype(np.float64)\n",
    "y_test = y_test.astype(np.float64)\n",
    "print(X_train.shape, y_train.shape, X_test.shape, y_test.shape)"
   ]
  },
  {
   "cell_type": "code",
   "execution_count": null,
   "metadata": {},
   "outputs": [],
   "source": [
    "np.mean(y_train)"
   ]
  },
  {
   "cell_type": "code",
   "execution_count": null,
   "metadata": {},
   "outputs": [],
   "source": [
    "# set_regressor can be used to find various regressors by string, but\n",
    "# any aeon, tsml or sklearn regressor can be used in the experiments function\n",
    "regressor = get_regressor_by_name(\"DummyRegressor\")\n",
    "\n",
    "# record memory usage every 0.1 seconds, just here for notebook speed\n",
    "# does not need to be changed for usage\n",
    "experiments.MEMRECORD_INTERVAL = 0.1\n",
    "\n",
    "run_regression_experiment(\n",
    "    X_train,\n",
    "    y_train,\n",
    "    X_test,\n",
    "    y_test,\n",
    "    regressor,\n",
    "    \"results/\",\n",
    "    dataset_name=dataset_name,\n",
    "    resample_id=0,\n",
    ")\n",
    "\n",
    "rr = load_regressor_results(\n",
    "    current_dir / \"results\" / \"DummyRegressor\" / \"Predictions\" / dataset_name / \"testResample0.csv\"\n",
    ")\n",
    "print(rr.predictions)\n",
    "print(rr.mean_squared_error, \"mse\")\n",
    "print(rr.root_mean_squared_error, \"rmse\")\n",
    "print(rr.mean_absolute_percentage_error, \"mape\")\n",
    "print(rr.r2_score, \"r2\")"
   ]
  },
  {
   "cell_type": "code",
   "execution_count": null,
   "metadata": {},
   "outputs": [],
   "source": [
    "# set_regressor can be used to find various regressors by string, but\n",
    "# any aeon, tsml or sklearn regressor can be used in the experiments function\n",
    "regressor = get_regressor_by_name(\"multirockethydra\")\n",
    "\n",
    "# record memory usage every 0.1 seconds, just here for notebook speed\n",
    "# does not need to be changed for usage\n",
    "experiments.MEMRECORD_INTERVAL = 0.1\n",
    "\n",
    "run_regression_experiment(\n",
    "    X_train,\n",
    "    y_train,\n",
    "    X_test,\n",
    "    y_test,\n",
    "    regressor,\n",
    "    \"results/\",\n",
    "    dataset_name=dataset_name,\n",
    "    resample_id=0,\n",
    ")\n",
    "\n",
    "rr = load_regressor_results(\n",
    "    current_dir / \"results\" / \"MultiRocketHydraRegressor\" / \"Predictions\" / dataset_name / \"testResample0.csv\"\n",
    ")\n",
    "print(rr.predictions)\n",
    "print(rr.mean_squared_error, \"mse\")\n",
    "print(rr.root_mean_squared_error, \"rmse\")\n",
    "print(rr.mean_absolute_percentage_error, \"mape\")\n",
    "print(rr.r2_score, \"r2\")"
   ]
  },
  {
   "cell_type": "markdown",
   "metadata": {},
   "source": [
    "## benchmark against other"
   ]
  },
  {
   "cell_type": "code",
   "execution_count": null,
   "metadata": {},
   "outputs": [],
   "source": [
    "datasets = [\n",
    "    \"CardanoSentiment\",\n",
    "    \"Covid3Month\",\n",
    "    \"FloodModeling1\",\n",
    "    \"FloodModeling2\",\n",
    "    \"NaturalGasPricesSentiment\",\n",
    "    #\"MethaneMonitoringHomeActivity\",\n",
    "    \"HouseholdPowerConsumption1\",\n",
    "    #\"AustraliaRainfall\"\n",
    "]\n",
    "\n",
    "estimators = [\"InceptionT\", \"FreshPRINCE\", \"DrCIF\", \"Rocket\", \"RandF\", \"RotF\", \"XGBoost\", \"Ridge\"] #\"MultiRocket\"\n",
    "benchmarks = get_estimator_results(\n",
    "    datasets=datasets, estimators=estimators, task=\"regression\", measure=\"rmse\", path = current_dir / \"data\" / \"bench_regression_TSER\"\n",
    ")\n",
    "\n",
    "def add_regressor_to_benchmarks(\n",
    "    model_name: str,\n",
    "    regressor,\n",
    "    benchmarks: Dict,\n",
    "    ):\n",
    "    results = {}\n",
    "    for d in datasets:\n",
    "        train_X, train_y = load_regression(d, split=\"train\")\n",
    "        test_X, test_y = load_regression(d, split=\"test\")\n",
    "        regressor.fit(train_X, train_y)\n",
    "        y_pred = regressor.predict(test_X)\n",
    "        results[d] = root_mean_squared_error(test_y, y_pred)\n",
    "    benchmarks[model_name] = results\n",
    "    return results\n",
    "\n",
    "benchmarks"
   ]
  },
  {
   "cell_type": "code",
   "execution_count": null,
   "metadata": {},
   "outputs": [],
   "source": [
    "add_regressor_to_benchmarks(\"Dummy\", DummyRegressor(), benchmarks) "
   ]
  },
  {
   "cell_type": "code",
   "execution_count": null,
   "metadata": {},
   "outputs": [],
   "source": [
    "add_regressor_to_benchmarks(\"multirockethydra\", get_regressor_by_name(\"multirockethydra\"), benchmarks) "
   ]
  },
  {
   "cell_type": "code",
   "execution_count": null,
   "metadata": {},
   "outputs": [],
   "source": [
    "\n",
    "table = pd.DataFrame(benchmarks)\n",
    "table"
   ]
  },
  {
   "cell_type": "code",
   "execution_count": null,
   "metadata": {},
   "outputs": [],
   "source": [
    "plt, _ = plot_critical_difference(\n",
    "    np.array(table), list(table.columns), lower_better=True\n",
    ")\n",
    "plt.show()"
   ]
  },
  {
   "cell_type": "markdown",
   "metadata": {},
   "source": [
    "# Make my own wrapper to tsml run experiment"
   ]
  },
  {
   "cell_type": "code",
   "execution_count": null,
   "metadata": {},
   "outputs": [],
   "source": [
    "# set_regressor can be used to find various regressors by string, but\n",
    "# any aeon, tsml or sklearn regressor can be used in the experiments function\n",
    "regressor = get_regressor_by_name(\"DummyRegressor\")\n",
    "\n",
    "# # record memory usage every 0.1 seconds, just here for notebook speed\n",
    "# # does not need to be changed for usage\n",
    "# experiments.MEMRECORD_INTERVAL = 0.1\n",
    "\n",
    "# run_regression_experiment(\n",
    "#     X_train,\n",
    "#     y_train,\n",
    "#     X_test,\n",
    "#     y_test,\n",
    "#     regressor,\n",
    "#     \"results/\",\n",
    "#     dataset_name=dataset_name,\n",
    "#     resample_id=0,\n",
    "# )\n",
    "\n",
    "# rr = load_regressor_results(\n",
    "#     current_dir / \"results\" / \"MultiRocketHydraRegressor\" / \"Predictions\" / dataset_name / \"testResample0.csv\"\n",
    "# )\n",
    "# print(rr.predictions)\n",
    "# print(rr.mean_squared_error, \"mse\")\n",
    "# print(rr.root_mean_squared_error, \"rmse\")\n",
    "# print(rr.mean_absolute_percentage_error, \"mape\")\n",
    "# print(rr.r2_score, \"r2\")"
   ]
  },
  {
   "cell_type": "code",
   "execution_count": null,
   "metadata": {},
   "outputs": [],
   "source": []
  },
  {
   "cell_type": "markdown",
   "metadata": {},
   "source": [
    "# Classifier"
   ]
  },
  {
   "cell_type": "code",
   "execution_count": null,
   "metadata": {},
   "outputs": [],
   "source": [
    "# TODO whats the proper way to load the TSC results? same library?"
   ]
  },
  {
   "cell_type": "markdown",
   "metadata": {},
   "source": [
    "# Make my own class\n",
    "\n",
    "\n",
    "\n",
    "Features:\n",
    "* For now only do wide not deep representation boosting\n",
    "* percentage of dataset to be used at each boosting iteration\n",
    "* Batching to calculate random features\n",
    "* Do i need batching for least squares?\n",
    "* What solver to use for least squares?\n",
    "* How to initialize Phi_0? Should i use different n_features for the initial guess? Use all data for initial?\n",
    "\n",
    "\n",
    "\n",
    "Would be interesting to see difference between boosting in label space vs representation boosting"
   ]
  },
  {
   "cell_type": "markdown",
   "metadata": {},
   "source": []
  }
 ],
 "metadata": {
  "kernelspec": {
   "display_name": ".venv",
   "language": "python",
   "name": "python3"
  },
  "language_info": {
   "codemirror_mode": {
    "name": "ipython",
    "version": 3
   },
   "file_extension": ".py",
   "mimetype": "text/x-python",
   "name": "python",
   "nbconvert_exporter": "python",
   "pygments_lexer": "ipython3",
   "version": "3.11.9"
  }
 },
 "nbformat": 4,
 "nbformat_minor": 2
}
