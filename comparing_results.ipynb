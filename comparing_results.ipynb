{
 "cells": [
  {
   "cell_type": "code",
   "execution_count": null,
   "metadata": {},
   "outputs": [],
   "source": [
    "# If on cluster, cwd is '/rds/general/user/nz423', not the project directory, breaking imports\n",
    "import os\n",
    "import sys\n",
    "from pathlib import Path\n",
    "\n",
    "project_dir = Path(os.getcwd()) / \"exploring-hydra-boosting\"\n",
    "if \"rds\" not in project_dir.parts:\n",
    "    project_dir = project_dir.parent\n",
    "    datasets_dir = project_dir.parent.parent / \"Data\"\n",
    "else:\n",
    "    datasets_dir = project_dir / \"DATASETS\"\n",
    "    if str(project_dir) not in sys.path:\n",
    "        sys.path.append(str(project_dir))\n",
    "    \n",
    "class Config:\n",
    "    project_dir = project_dir\n",
    "    TSER_dir = datasets_dir / \"TSER\"\n",
    "    BigTSC_dir = datasets_dir / \"BigTSC\"\n",
    "    UTSC_dir = datasets_dir / \"UTSC\"\n",
    "\n",
    "print(Config.project_dir)\n",
    "print(Config.TSER_dir)\n",
    "print(Config.BigTSC_dir)\n",
    "print(Config.UTSC_dir)"
   ]
  },
  {
   "cell_type": "code",
   "execution_count": 3,
   "metadata": {},
   "outputs": [],
   "source": [
    "from typing import Tuple, List, Union, Any, Optional, Dict, Literal, Callable\n",
    "import time\n",
    "import os\n",
    "import sys\n",
    "import pathlib\n",
    "from pathlib import Path\n",
    "\n",
    "\n",
    "import numpy as np\n",
    "import aeon\n",
    "import torch\n",
    "from torch import Tensor\n",
    "import torch.nn as nn\n",
    "import torch.functional as F\n",
    "import pandas as pd\n",
    "from aeon.datasets.tser_datasets import tser_soton; tser_soton = sorted(list(tser_soton))\n",
    "from aeon.datasets import load_regression\n",
    "from sklearn.metrics import root_mean_squared_error\n",
    "from sklearn.linear_model import RidgeCV\n",
    "from tqdm import tqdm\n",
    "np.set_printoptions(precision=3, threshold=5) # Print options"
   ]
  },
  {
   "cell_type": "markdown",
   "metadata": {},
   "source": [
    "# Regressor"
   ]
  },
  {
   "cell_type": "code",
   "execution_count": 4,
   "metadata": {},
   "outputs": [
    {
     "name": "stderr",
     "output_type": "stream",
     "text": [
      "/rds/general/user/nz423/home/miniforge3/envs/hydraboost/lib/python3.11/site-packages/aeon/base/__init__.py:24: FutureWarning: The aeon package will soon be releasing v1.0.0 with the removal of legacy modules and interfaces such as BaseTransformer and BaseForecaster. This will contain breaking changes. See aeon-toolkit.org for more information. Set aeon.AEON_DEPRECATION_WARNING or the AEON_DEPRECATION_WARNING environmental variable to 'False' to disable this warning.\n",
      "  warnings.warn(\n"
     ]
    }
   ],
   "source": [
    "import numpy as np\n",
    "import pandas as pd\n",
    "from aeon.benchmarking.results_loaders import get_estimator_results\n",
    "from aeon.datasets import load_regression\n",
    "from aeon.regression import DummyRegressor\n",
    "from aeon.visualisation import plot_critical_difference\n",
    "from sklearn.metrics import mean_squared_error\n",
    "from tsml.datasets import load_minimal_gas_prices\n",
    "from aeon.datasets.tser_datasets import tser_soton; tser_soton = sorted(list(tser_soton))\n",
    "\n",
    "from tsml_eval.evaluation.storage import load_regressor_results\n",
    "from tsml_eval.experiments import (\n",
    "    experiments,\n",
    "    get_regressor_by_name,\n",
    "    run_regression_experiment,\n",
    ")\n",
    "\n",
    "# print(\"TSER\", \"len\", len(tser_soton), tser_soton)"
   ]
  },
  {
   "cell_type": "code",
   "execution_count": null,
   "metadata": {},
   "outputs": [],
   "source": [
    "# available regressors\n"
   ]
  },
  {
   "cell_type": "code",
   "execution_count": 5,
   "metadata": {},
   "outputs": [
    {
     "name": "stdout",
     "output_type": "stream",
     "text": [
      "(95, 24, 144) (95,) (42, 24, 144) (42,)\n"
     ]
    }
   ],
   "source": [
    "from load_datasets import get_aeon_dataset\n",
    "dataset_name = \"AppliancesEnergy\"\n",
    "X_train, y_train, X_test, y_test = get_aeon_dataset(dataset_name, Config.TSER_dir, \"regression\")\n",
    "X_train = X_train.astype(np.float64) # TODO bug otherwise with other built in methods\n",
    "y_train = y_train.astype(np.float64)\n",
    "X_test = X_test.astype(np.float64)\n",
    "y_test = y_test.astype(np.float64)\n",
    "print(X_train.shape, y_train.shape, X_test.shape, y_test.shape)"
   ]
  },
  {
   "cell_type": "code",
   "execution_count": null,
   "metadata": {},
   "outputs": [],
   "source": [
    "np.mean(y_train)"
   ]
  },
  {
   "cell_type": "code",
   "execution_count": 6,
   "metadata": {},
   "outputs": [
    {
     "name": "stdout",
     "output_type": "stream",
     "text": [
      "[14.166 14.166 14.166 ... 14.166 14.166 14.166]\n",
      "11.936329996834191 mse\n",
      "3.4548994192066127 rmse\n",
      "0.20817897888613646 mape\n",
      "-0.00964755320670485 r2\n"
     ]
    },
    {
     "name": "stderr",
     "output_type": "stream",
     "text": [
      "/rds/general/user/nz423/home/miniforge3/envs/hydraboost/lib/python3.11/site-packages/sklearn/metrics/_regression.py:492: FutureWarning: 'squared' is deprecated in version 1.4 and will be removed in 1.6. To calculate the root mean squared error, use the function'root_mean_squared_error'.\n",
      "  warnings.warn(\n"
     ]
    }
   ],
   "source": [
    "# set_regressor can be used to find various regressors by string, but\n",
    "# any aeon, tsml or sklearn regressor can be used in the experiments function\n",
    "regressor = get_regressor_by_name(\"DummyRegressor\")\n",
    "\n",
    "# record memory usage every 0.1 seconds, just here for notebook speed\n",
    "# does not need to be changed for usage\n",
    "experiments.MEMRECORD_INTERVAL = 0.1\n",
    "\n",
    "run_regression_experiment(\n",
    "    X_train,\n",
    "    y_train,\n",
    "    X_test,\n",
    "    y_test,\n",
    "    regressor,\n",
    "    Config.project_dir / \"results\",\n",
    "    dataset_name=dataset_name,\n",
    "    resample_id=0,\n",
    ")\n",
    "\n",
    "rr = load_regressor_results(\n",
    "    Config.project_dir / \"results\" / \"DummyRegressor\" / \"Predictions\" / dataset_name / \"testResample0.csv\"\n",
    ")\n",
    "print(rr.predictions)\n",
    "print(rr.mean_squared_error, \"mse\")\n",
    "print(rr.root_mean_squared_error, \"rmse\")\n",
    "print(rr.mean_absolute_percentage_error, \"mape\")\n",
    "print(rr.r2_score, \"r2\")"
   ]
  },
  {
   "cell_type": "code",
   "execution_count": null,
   "metadata": {},
   "outputs": [],
   "source": [
    "# set_regressor can be used to find various regressors by string, but\n",
    "# any aeon, tsml or sklearn regressor can be used in the experiments function\n",
    "regressor = get_regressor_by_name(\"multirockethydra\")\n",
    "\n",
    "# record memory usage every 0.1 seconds, just here for notebook speed\n",
    "# does not need to be changed for usage\n",
    "experiments.MEMRECORD_INTERVAL = 0.1\n",
    "\n",
    "run_regression_experiment(\n",
    "    X_train,\n",
    "    y_train,\n",
    "    X_test,\n",
    "    y_test,\n",
    "    regressor,\n",
    "    Config.project_dir / \"results\",\n",
    "    dataset_name=dataset_name,\n",
    "    resample_id=0,\n",
    ")\n",
    "\n",
    "rr = load_regressor_results(\n",
    "    Config.project_dir / \"results\" / \"MultiRocketHydraRegressor\" / \"Predictions\" / dataset_name / \"testResample0.csv\"\n",
    ")\n",
    "print(rr.predictions)\n",
    "print(rr.mean_squared_error, \"mse\")\n",
    "print(rr.root_mean_squared_error, \"rmse\")\n",
    "print(rr.mean_absolute_percentage_error, \"mape\")\n",
    "print(rr.r2_score, \"r2\")"
   ]
  },
  {
   "cell_type": "markdown",
   "metadata": {},
   "source": [
    "## benchmark against other"
   ]
  },
  {
   "cell_type": "code",
   "execution_count": 7,
   "metadata": {},
   "outputs": [
    {
     "data": {
      "text/plain": [
       "{'InceptionT': {'CardanoSentiment': 0.3790249345482153,\n",
       "  'Covid3Month': 0.0547486330011963,\n",
       "  'FloodModeling1': 0.0066867519847921,\n",
       "  'FloodModeling2': 0.0043589524619258,\n",
       "  'NaturalGasPricesSentiment': 0.2406518450482171,\n",
       "  'HouseholdPowerConsumption1': 151.88483357207497},\n",
       " 'FreshPRINCE': {'CardanoSentiment': 0.2894787944853637,\n",
       "  'Covid3Month': 0.0401913023459625,\n",
       "  'FloodModeling1': 0.0049994162451307,\n",
       "  'FloodModeling2': 0.0068567616393676,\n",
       "  'NaturalGasPricesSentiment': 0.054954074837973,\n",
       "  'HouseholdPowerConsumption1': 146.95849199150507},\n",
       " 'DrCIF': {'CardanoSentiment': 0.3133879847892337,\n",
       "  'Covid3Month': 0.0430093286336655,\n",
       "  'FloodModeling1': 0.0060619965978605,\n",
       "  'FloodModeling2': 0.0061042553512311,\n",
       "  'NaturalGasPricesSentiment': 0.0534594028311273,\n",
       "  'HouseholdPowerConsumption1': 152.61924482476638},\n",
       " 'Rocket': {'CardanoSentiment': 0.298395630925008,\n",
       "  'Covid3Month': 0.0388925990110909,\n",
       "  'FloodModeling1': 0.0138775273981996,\n",
       "  'FloodModeling2': 0.0113401395341792,\n",
       "  'NaturalGasPricesSentiment': 0.0916109339971527,\n",
       "  'HouseholdPowerConsumption1': 243.98270711724007},\n",
       " 'RandF': {'CardanoSentiment': 0.3006768361627177,\n",
       "  'Covid3Month': 0.0425468061355052,\n",
       "  'FloodModeling1': 0.0158628246563847,\n",
       "  'FloodModeling2': 0.0144429711114909,\n",
       "  'NaturalGasPricesSentiment': 0.048485461103978,\n",
       "  'HouseholdPowerConsumption1': 246.6727406493557},\n",
       " 'RotF': {'CardanoSentiment': 0.3223837225629858,\n",
       "  'Covid3Month': 0.0464330708041165,\n",
       "  'FloodModeling1': 0.0162800602238164,\n",
       "  'FloodModeling2': 0.0082871990314018,\n",
       "  'NaturalGasPricesSentiment': 0.053092033693262,\n",
       "  'HouseholdPowerConsumption1': 227.88386737972377},\n",
       " 'XGBoost': {'CardanoSentiment': 0.3559531169404237,\n",
       "  'Covid3Month': 0.0455056686738088,\n",
       "  'FloodModeling1': 0.0162402874754935,\n",
       "  'FloodModeling2': 0.0182975378559483,\n",
       "  'NaturalGasPricesSentiment': 0.0502096334691803,\n",
       "  'HouseholdPowerConsumption1': 242.0387533229944},\n",
       " 'Ridge': {'CardanoSentiment': 0.3890525427440788,\n",
       "  'Covid3Month': 0.482443462117518,\n",
       "  'FloodModeling1': 0.0180430972048682,\n",
       "  'FloodModeling2': 0.0190695858325751,\n",
       "  'NaturalGasPricesSentiment': 0.0758712858958666,\n",
       "  'HouseholdPowerConsumption1': 164.31163447428716}}"
      ]
     },
     "execution_count": 7,
     "metadata": {},
     "output_type": "execute_result"
    }
   ],
   "source": [
    "datasets = [\n",
    "    \"CardanoSentiment\",\n",
    "    \"Covid3Month\",\n",
    "    \"FloodModeling1\",\n",
    "    \"FloodModeling2\",\n",
    "    \"NaturalGasPricesSentiment\",\n",
    "    #\"MethaneMonitoringHomeActivity\",\n",
    "    \"HouseholdPowerConsumption1\",\n",
    "    #\"AustraliaRainfall\"\n",
    "]\n",
    "\n",
    "estimators = [\"InceptionT\", \"FreshPRINCE\", \"DrCIF\", \"Rocket\", \"RandF\", \"RotF\", \"XGBoost\", \"Ridge\"] #\"MultiRocket\"\n",
    "benchmarks = get_estimator_results(\n",
    "    datasets=datasets, estimators=estimators, task=\"regression\", measure=\"rmse\", \n",
    "    path = project_dir / \"data\" / \"bench_regression_TSER\"\n",
    ")\n",
    "\n",
    "def add_regressor_to_benchmarks(\n",
    "    model_name: str,\n",
    "    regressor,\n",
    "    benchmarks: Dict,\n",
    "    ):\n",
    "    results = {}\n",
    "    for d in datasets:\n",
    "        train_X, train_y = load_regression(d, split=\"train\")\n",
    "        test_X, test_y = load_regression(d, split=\"test\")\n",
    "        regressor.fit(train_X, train_y)\n",
    "        y_pred = regressor.predict(test_X)\n",
    "        results[d] = root_mean_squared_error(test_y, y_pred)\n",
    "    benchmarks[model_name] = results\n",
    "    return results\n",
    "\n",
    "benchmarks"
   ]
  },
  {
   "cell_type": "code",
   "execution_count": 8,
   "metadata": {},
   "outputs": [
    {
     "data": {
      "text/plain": [
       "{'CardanoSentiment': 0.3002608403259928,\n",
       " 'Covid3Month': 0.04471992368682529,\n",
       " 'FloodModeling1': 0.018863328807814914,\n",
       " 'FloodModeling2': 0.018547996598852055,\n",
       " 'NaturalGasPricesSentiment': 0.09023204999410936,\n",
       " 'HouseholdPowerConsumption1': 521.1154897160502}"
      ]
     },
     "execution_count": 8,
     "metadata": {},
     "output_type": "execute_result"
    }
   ],
   "source": [
    "add_regressor_to_benchmarks(\"Dummy\", DummyRegressor(), benchmarks) "
   ]
  },
  {
   "cell_type": "code",
   "execution_count": null,
   "metadata": {},
   "outputs": [],
   "source": [
    "add_regressor_to_benchmarks(\"multirockethydra\", get_regressor_by_name(\"multirockethydra\"), benchmarks) "
   ]
  },
  {
   "cell_type": "code",
   "execution_count": 9,
   "metadata": {},
   "outputs": [
    {
     "data": {
      "text/html": [
       "<div>\n",
       "<style scoped>\n",
       "    .dataframe tbody tr th:only-of-type {\n",
       "        vertical-align: middle;\n",
       "    }\n",
       "\n",
       "    .dataframe tbody tr th {\n",
       "        vertical-align: top;\n",
       "    }\n",
       "\n",
       "    .dataframe thead th {\n",
       "        text-align: right;\n",
       "    }\n",
       "</style>\n",
       "<table border=\"1\" class=\"dataframe\">\n",
       "  <thead>\n",
       "    <tr style=\"text-align: right;\">\n",
       "      <th></th>\n",
       "      <th>InceptionT</th>\n",
       "      <th>FreshPRINCE</th>\n",
       "      <th>DrCIF</th>\n",
       "      <th>Rocket</th>\n",
       "      <th>RandF</th>\n",
       "      <th>RotF</th>\n",
       "      <th>XGBoost</th>\n",
       "      <th>Ridge</th>\n",
       "      <th>Dummy</th>\n",
       "    </tr>\n",
       "  </thead>\n",
       "  <tbody>\n",
       "    <tr>\n",
       "      <th>CardanoSentiment</th>\n",
       "      <td>0.379025</td>\n",
       "      <td>0.289479</td>\n",
       "      <td>0.313388</td>\n",
       "      <td>0.298396</td>\n",
       "      <td>0.300677</td>\n",
       "      <td>0.322384</td>\n",
       "      <td>0.355953</td>\n",
       "      <td>0.389053</td>\n",
       "      <td>0.300261</td>\n",
       "    </tr>\n",
       "    <tr>\n",
       "      <th>Covid3Month</th>\n",
       "      <td>0.054749</td>\n",
       "      <td>0.040191</td>\n",
       "      <td>0.043009</td>\n",
       "      <td>0.038893</td>\n",
       "      <td>0.042547</td>\n",
       "      <td>0.046433</td>\n",
       "      <td>0.045506</td>\n",
       "      <td>0.482443</td>\n",
       "      <td>0.044720</td>\n",
       "    </tr>\n",
       "    <tr>\n",
       "      <th>FloodModeling1</th>\n",
       "      <td>0.006687</td>\n",
       "      <td>0.004999</td>\n",
       "      <td>0.006062</td>\n",
       "      <td>0.013878</td>\n",
       "      <td>0.015863</td>\n",
       "      <td>0.016280</td>\n",
       "      <td>0.016240</td>\n",
       "      <td>0.018043</td>\n",
       "      <td>0.018863</td>\n",
       "    </tr>\n",
       "    <tr>\n",
       "      <th>FloodModeling2</th>\n",
       "      <td>0.004359</td>\n",
       "      <td>0.006857</td>\n",
       "      <td>0.006104</td>\n",
       "      <td>0.011340</td>\n",
       "      <td>0.014443</td>\n",
       "      <td>0.008287</td>\n",
       "      <td>0.018298</td>\n",
       "      <td>0.019070</td>\n",
       "      <td>0.018548</td>\n",
       "    </tr>\n",
       "    <tr>\n",
       "      <th>NaturalGasPricesSentiment</th>\n",
       "      <td>0.240652</td>\n",
       "      <td>0.054954</td>\n",
       "      <td>0.053459</td>\n",
       "      <td>0.091611</td>\n",
       "      <td>0.048485</td>\n",
       "      <td>0.053092</td>\n",
       "      <td>0.050210</td>\n",
       "      <td>0.075871</td>\n",
       "      <td>0.090232</td>\n",
       "    </tr>\n",
       "    <tr>\n",
       "      <th>HouseholdPowerConsumption1</th>\n",
       "      <td>151.884834</td>\n",
       "      <td>146.958492</td>\n",
       "      <td>152.619245</td>\n",
       "      <td>243.982707</td>\n",
       "      <td>246.672741</td>\n",
       "      <td>227.883867</td>\n",
       "      <td>242.038753</td>\n",
       "      <td>164.311634</td>\n",
       "      <td>521.115490</td>\n",
       "    </tr>\n",
       "  </tbody>\n",
       "</table>\n",
       "</div>"
      ],
      "text/plain": [
       "                            InceptionT  FreshPRINCE       DrCIF      Rocket  \\\n",
       "CardanoSentiment              0.379025     0.289479    0.313388    0.298396   \n",
       "Covid3Month                   0.054749     0.040191    0.043009    0.038893   \n",
       "FloodModeling1                0.006687     0.004999    0.006062    0.013878   \n",
       "FloodModeling2                0.004359     0.006857    0.006104    0.011340   \n",
       "NaturalGasPricesSentiment     0.240652     0.054954    0.053459    0.091611   \n",
       "HouseholdPowerConsumption1  151.884834   146.958492  152.619245  243.982707   \n",
       "\n",
       "                                 RandF        RotF     XGBoost       Ridge  \\\n",
       "CardanoSentiment              0.300677    0.322384    0.355953    0.389053   \n",
       "Covid3Month                   0.042547    0.046433    0.045506    0.482443   \n",
       "FloodModeling1                0.015863    0.016280    0.016240    0.018043   \n",
       "FloodModeling2                0.014443    0.008287    0.018298    0.019070   \n",
       "NaturalGasPricesSentiment     0.048485    0.053092    0.050210    0.075871   \n",
       "HouseholdPowerConsumption1  246.672741  227.883867  242.038753  164.311634   \n",
       "\n",
       "                                 Dummy  \n",
       "CardanoSentiment              0.300261  \n",
       "Covid3Month                   0.044720  \n",
       "FloodModeling1                0.018863  \n",
       "FloodModeling2                0.018548  \n",
       "NaturalGasPricesSentiment     0.090232  \n",
       "HouseholdPowerConsumption1  521.115490  "
      ]
     },
     "execution_count": 9,
     "metadata": {},
     "output_type": "execute_result"
    }
   ],
   "source": [
    "\n",
    "table = pd.DataFrame(benchmarks)\n",
    "table"
   ]
  },
  {
   "cell_type": "code",
   "execution_count": 10,
   "metadata": {},
   "outputs": [
    {
     "data": {
      "image/png": "[encoded data removed]",
      "text/plain": [
       "<Figure size 600x280 with 1 Axes>"
      ]
     },
     "metadata": {},
     "output_type": "display_data"
    }
   ],
   "source": [
    "plt, _ = plot_critical_difference(\n",
    "    np.array(table), list(table.columns), lower_better=True\n",
    ")\n",
    "plt.show()"
   ]
  },
  {
   "cell_type": "markdown",
   "metadata": {},
   "source": [
    "# Make my own wrapper to tsml run experiment"
   ]
  },
  {
   "cell_type": "code",
   "execution_count": null,
   "metadata": {},
   "outputs": [],
   "source": [
    "# set_regressor can be used to find various regressors by string, but\n",
    "# any aeon, tsml or sklearn regressor can be used in the experiments function\n",
    "regressor = get_regressor_by_name(\"DummyRegressor\")\n",
    "\n",
    "# # record memory usage every 0.1 seconds, just here for notebook speed\n",
    "# # does not need to be changed for usage\n",
    "# experiments.MEMRECORD_INTERVAL = 0.1\n",
    "\n",
    "# run_regression_experiment(\n",
    "#     X_train,\n",
    "#     y_train,\n",
    "#     X_test,\n",
    "#     y_test,\n",
    "#     regressor,\n",
    "#     \"results/\",\n",
    "#     dataset_name=dataset_name,\n",
    "#     resample_id=0,\n",
    "# )\n",
    "\n",
    "# rr = load_regressor_results(\n",
    "#     current_dir / \"results\" / \"MultiRocketHydraRegressor\" / \"Predictions\" / dataset_name / \"testResample0.csv\"\n",
    "# )\n",
    "# print(rr.predictions)\n",
    "# print(rr.mean_squared_error, \"mse\")\n",
    "# print(rr.root_mean_squared_error, \"rmse\")\n",
    "# print(rr.mean_absolute_percentage_error, \"mape\")\n",
    "# print(rr.r2_score, \"r2\")"
   ]
  },
  {
   "cell_type": "code",
   "execution_count": null,
   "metadata": {},
   "outputs": [],
   "source": []
  },
  {
   "cell_type": "markdown",
   "metadata": {},
   "source": [
    "# Classifier"
   ]
  },
  {
   "cell_type": "code",
   "execution_count": null,
   "metadata": {},
   "outputs": [],
   "source": [
    "# TODO whats the proper way to load the TSC results? same library?"
   ]
  },
  {
   "cell_type": "markdown",
   "metadata": {},
   "source": [
    "# Make my own class\n",
    "\n",
    "\n",
    "\n",
    "Features:\n",
    "* For now only do wide not deep representation boosting\n",
    "* percentage of dataset to be used at each boosting iteration\n",
    "* Batching to calculate random features\n",
    "* Do i need batching for least squares?\n",
    "* What solver to use for least squares?\n",
    "* How to initialize Phi_0? Should i use different n_features for the initial guess? Use all data for initial?\n",
    "\n",
    "\n",
    "\n",
    "Would be interesting to see difference between boosting in label space vs representation boosting"
   ]
  },
  {
   "cell_type": "markdown",
   "metadata": {},
   "source": []
  }
 ],
 "metadata": {
  "kernelspec": {
   "display_name": ".venv",
   "language": "python",
   "name": "python3"
  },
  "language_info": {
   "codemirror_mode": {
    "name": "ipython",
    "version": 3
   },
   "file_extension": ".py",
   "mimetype": "text/x-python",
   "name": "python",
   "nbconvert_exporter": "python",
   "pygments_lexer": "ipython3",
   "version": "3.11.9"
  }
 },
 "nbformat": 4,
 "nbformat_minor": 2
}
