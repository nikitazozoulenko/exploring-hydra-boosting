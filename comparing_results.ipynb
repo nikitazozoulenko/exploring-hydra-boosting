{
 "cells": [
  {
   "cell_type": "code",
   "execution_count": 1,
   "metadata": {},
   "outputs": [
    {
     "name": "stdout",
     "output_type": "stream",
     "text": [
      "current_dir c:\\Users\\nz423\\Code\\exploring-hydra-boosting\n",
      "TSER_data_dir c:\\Users\\nz423\\Data\\TSER\n"
     ]
    }
   ],
   "source": [
    "from typing import Tuple, List, Union, Any, Optional, Dict, Literal, Callable\n",
    "import time\n",
    "import os\n",
    "import sys\n",
    "import pathlib\n",
    "from pathlib import Path\n",
    "\n",
    "current_dir = Path(os.getcwd())\n",
    "TSER_data_dir = current_dir.parent.parent / \"Data\" / \"TSER\"\n",
    "print(\"current_dir\", current_dir)\n",
    "print(\"TSER_data_dir\", TSER_data_dir)\n",
    "\n",
    "import numpy as np\n",
    "import aeon\n",
    "import torch\n",
    "from torch import Tensor\n",
    "import torch.nn as nn\n",
    "import torch.functional as F\n",
    "import pandas as pd\n",
    "from aeon.datasets.tser_datasets import tser_soton; tser_soton = sorted(list(tser_soton))\n",
    "from aeon.datasets import load_regression\n",
    "from sklearn.metrics import root_mean_squared_error\n",
    "from sklearn.linear_model import RidgeCV\n",
    "from tqdm import tqdm\n",
    "np.set_printoptions(precision=3, threshold=5) # Print options"
   ]
  },
  {
   "cell_type": "code",
   "execution_count": 2,
   "metadata": {},
   "outputs": [],
   "source": [
    "# from aeon.benchmarking.results_loaders import get_available_estimators\n",
    "\n",
    "# get_available_estimators(task=\"classification\")"
   ]
  },
  {
   "cell_type": "code",
   "execution_count": 3,
   "metadata": {},
   "outputs": [],
   "source": [
    "# get_available_estimators(task=\"regression\")"
   ]
  },
  {
   "cell_type": "markdown",
   "metadata": {},
   "source": [
    "# Download dataset"
   ]
  },
  {
   "cell_type": "code",
   "execution_count": 4,
   "metadata": {},
   "outputs": [],
   "source": [
    "import requests\n",
    "from bs4 import BeautifulSoup\n",
    "import os\n",
    "\n",
    "def download_files(\n",
    "        base_url: str, \n",
    "        target_dirs: List[str], \n",
    "        root_files: List[str] = [], \n",
    "        save_path: str = \"downloaded_files\"\n",
    "    ):\n",
    "    \"\"\"\n",
    "    Downloads files from a website with a nested directory structure.\n",
    "\n",
    "    Args:\n",
    "        base_url: The base URL of the website.\n",
    "        target_dirs: A list of directories to download files from.\n",
    "        root_files: A list of files to download from the root directory.\n",
    "        save_path: The local path to save the downloaded files.\n",
    "    \"\"\"\n",
    "\n",
    "    response = requests.get(base_url)\n",
    "    response.raise_for_status()  # Raise an exception for bad status codes\n",
    "\n",
    "    soup = BeautifulSoup(response.content, 'html.parser')\n",
    "\n",
    "    # Create a directory to store downloaded files\n",
    "    if not os.path.exists(save_path):\n",
    "        os.makedirs(save_path)\n",
    "\n",
    "    # Download files from the root directory\n",
    "    for file_name in root_files:\n",
    "        file_url = base_url + file_name\n",
    "        download_file(file_url, save_path)\n",
    "\n",
    "    # Find all links to directories\n",
    "    for link in soup.find_all('a', href=True):\n",
    "        dir_name = link['href']\n",
    "        if dir_name.endswith('/') and dir_name[:-1] in target_dirs:\n",
    "            dir_url = base_url + dir_name\n",
    "            download_files_in_dir(dir_url, os.path.join(save_path, dir_name[:-1]))\n",
    "\n",
    "def download_files_in_dir(dir_url, save_path):\n",
    "    \"\"\"\n",
    "    Downloads all CSV files within a specific directory.\n",
    "\n",
    "    Args:\n",
    "        dir_url: The URL of the directory.\n",
    "        save_path: The local path to save the downloaded files.\n",
    "    \"\"\"\n",
    "\n",
    "    response = requests.get(dir_url)\n",
    "    response.raise_for_status()\n",
    "\n",
    "    soup = BeautifulSoup(response.content, 'html.parser')\n",
    "\n",
    "    if not os.path.exists(save_path):\n",
    "        os.makedirs(save_path)\n",
    "\n",
    "    for link in soup.find_all('a', href=True):\n",
    "        file_name = link['href']\n",
    "        if file_name.endswith('.csv'):\n",
    "            file_url = dir_url + file_name\n",
    "            download_file(file_url, save_path)\n",
    "\n",
    "def download_file(file_url, save_path):\n",
    "    \"\"\"\n",
    "    Downloads a single file.\n",
    "\n",
    "    Args:\n",
    "        file_url: The URL of the file to download.\n",
    "        save_path: The local path to save the downloaded file.\n",
    "    \"\"\"\n",
    "\n",
    "    try:\n",
    "        response = requests.get(file_url, stream=True)\n",
    "        response.raise_for_status()\n",
    "\n",
    "        file_name = os.path.basename(file_url)\n",
    "        local_file_path = os.path.join(save_path, file_name)\n",
    "\n",
    "        with open(local_file_path, 'wb') as f:\n",
    "            for chunk in response.iter_content(chunk_size=8192):\n",
    "                f.write(chunk)\n",
    "\n",
    "        print(f\"Downloaded: {file_name}\")\n",
    "    except requests.exceptions.RequestException as e:\n",
    "        print(f\"Error downloading {file_url}: {e}\")\n",
    "\n",
    "# download_files(\n",
    "#     base_url = \"https://timeseriesclassification.com/results/ReferenceResults/regression/\", \n",
    "#     target_dirs = [\"fittime\", \"mae\", \"mape\", \"mse\", \"predicttime\", \"r2\", \"rmse\"], \n",
    "#     root_files = [\"estimators.txt\"],\n",
    "#     save_path = \"data/bench_regression_TSER/regression\"\n",
    "#     )"
   ]
  },
  {
   "cell_type": "markdown",
   "metadata": {},
   "source": [
    "# Regressor"
   ]
  },
  {
   "cell_type": "code",
   "execution_count": 5,
   "metadata": {},
   "outputs": [
    {
     "name": "stdout",
     "output_type": "stream",
     "text": [
      "TSER len 63 ['AcousticContaminationMadrid', 'AluminiumConcentration', 'AppliancesEnergy', 'AustraliaRainfall', 'BIDMC32HR', 'BIDMC32RR', 'BIDMC32SpO2', 'BarCrawl6min', 'BeijingIntAirportPM25Quality', 'BeijingPM10Quality', 'BeijingPM25Quality', 'BenzeneConcentration', 'BinanceCoinSentiment', 'BitcoinSentiment', 'BoronConcentration', 'CalciumConcentration', 'CardanoSentiment', 'ChilledWaterPredictor', 'CopperConcentration', 'Covid19Andalusia', 'Covid3Month', 'DailyOilGasPrices', 'DailyTemperatureLatitude', 'DhakaHourlyAirQuality', 'ElectricMotorTemperature', 'ElectricityPredictor', 'EthereumSentiment', 'FloodModeling1', 'FloodModeling2', 'FloodModeling3', 'GasSensorArrayAcetone', 'GasSensorArrayEthanol', 'HotwaterPredictor', 'HouseholdPowerConsumption1', 'HouseholdPowerConsumption2', 'IEEEPPG', 'IronConcentration', 'LPGasMonitoringHomeActivity', 'LiveFuelMoistureContent', 'MadridPM10Quality', 'MagnesiumConcentration', 'ManganeseConcentration', 'MethaneMonitoringHomeActivity', 'MetroInterstateTrafficVolume', 'NaturalGasPricesSentiment', 'NewsHeadlineSentiment', 'NewsTitleSentiment', 'OccupancyDetectionLight', 'PPGDalia', 'ParkingBirmingham', 'PhosphorusConcentration', 'PotassiumConcentration', 'PrecipitationAndalusia', 'SierraNevadaMountainsSnow', 'SodiumConcentration', 'SolarRadiationAndalusia', 'SteamPredictor', 'SulphurConcentration', 'TetuanEnergyConsumption', 'VentilatorPressure', 'WaveDataTension', 'WindTurbinePower', 'ZincConcentration']\n"
     ]
    }
   ],
   "source": [
    "import numpy as np\n",
    "import pandas as pd\n",
    "from aeon.benchmarking.results_loaders import get_estimator_results\n",
    "from aeon.datasets import load_regression\n",
    "from aeon.regression import DummyRegressor\n",
    "from aeon.visualisation import plot_critical_difference\n",
    "from sklearn.metrics import mean_squared_error\n",
    "from tsml.datasets import load_minimal_gas_prices\n",
    "from aeon.datasets.tser_datasets import tser_soton; tser_soton = sorted(list(tser_soton))\n",
    "\n",
    "from tsml_eval.evaluation.storage import load_regressor_results\n",
    "from tsml_eval.experiments import (\n",
    "    experiments,\n",
    "    get_regressor_by_name,\n",
    "    run_regression_experiment,\n",
    ")\n",
    "print(\"TSER\", \"len\", len(tser_soton), tser_soton)"
   ]
  },
  {
   "cell_type": "code",
   "execution_count": 6,
   "metadata": {},
   "outputs": [],
   "source": [
    "# available regressors\n"
   ]
  },
  {
   "cell_type": "code",
   "execution_count": 7,
   "metadata": {},
   "outputs": [
    {
     "name": "stdout",
     "output_type": "stream",
     "text": [
      "(95, 24, 144) (95,) (42, 24, 144) (42,)\n"
     ]
    }
   ],
   "source": [
    "from load_datasets import get_aeon_dataset\n",
    "dataset_name = \"AppliancesEnergy\"\n",
    "X_train, y_train, X_test, y_test = get_aeon_dataset(dataset_name, TSER_data_dir, \"regression\")\n",
    "X_train = X_train.astype(np.float64) # TODO bug otherwise with other built in methods\n",
    "y_train = y_train.astype(np.float64)\n",
    "X_test = X_test.astype(np.float64)\n",
    "y_test = y_test.astype(np.float64)\n",
    "print(X_train.shape, y_train.shape, X_test.shape, y_test.shape)"
   ]
  },
  {
   "cell_type": "code",
   "execution_count": 8,
   "metadata": {},
   "outputs": [
    {
     "data": {
      "text/plain": [
       "14.165578957607872"
      ]
     },
     "execution_count": 8,
     "metadata": {},
     "output_type": "execute_result"
    }
   ],
   "source": [
    "np.mean(y_train)"
   ]
  },
  {
   "cell_type": "code",
   "execution_count": 9,
   "metadata": {},
   "outputs": [
    {
     "name": "stdout",
     "output_type": "stream",
     "text": [
      "[14.166 14.166 14.166 ... 14.166 14.166 14.166]\n",
      "11.936329995508089 mse\n",
      "3.454899419014697 rmse\n",
      "0.2081789804516575 mape\n",
      "-0.009647554479544684 r2\n"
     ]
    },
    {
     "name": "stderr",
     "output_type": "stream",
     "text": [
      "c:\\Users\\nz423\\Code\\exploring-hydra-boosting\\.venv\\Lib\\site-packages\\sklearn\\metrics\\_regression.py:483: FutureWarning: 'squared' is deprecated in version 1.4 and will be removed in 1.6. To calculate the root mean squared error, use the function'root_mean_squared_error'.\n",
      "  warnings.warn(\n"
     ]
    }
   ],
   "source": [
    "# set_regressor can be used to find various regressors by string, but\n",
    "# any aeon, tsml or sklearn regressor can be used in the experiments function\n",
    "regressor = get_regressor_by_name(\"DummyRegressor\")\n",
    "\n",
    "# record memory usage every 0.1 seconds, just here for notebook speed\n",
    "# does not need to be changed for usage\n",
    "experiments.MEMRECORD_INTERVAL = 0.1\n",
    "\n",
    "run_regression_experiment(\n",
    "    X_train,\n",
    "    y_train,\n",
    "    X_test,\n",
    "    y_test,\n",
    "    regressor,\n",
    "    \"results/\",\n",
    "    dataset_name=dataset_name,\n",
    "    resample_id=0,\n",
    ")\n",
    "\n",
    "rr = load_regressor_results(\n",
    "    current_dir / \"results\" / \"DummyRegressor\" / \"Predictions\" / dataset_name / \"testResample0.csv\"\n",
    ")\n",
    "print(rr.predictions)\n",
    "print(rr.mean_squared_error, \"mse\")\n",
    "print(rr.root_mean_squared_error, \"rmse\")\n",
    "print(rr.mean_absolute_percentage_error, \"mape\")\n",
    "print(rr.r2_score, \"r2\")"
   ]
  },
  {
   "cell_type": "code",
   "execution_count": 10,
   "metadata": {},
   "outputs": [
    {
     "name": "stdout",
     "output_type": "stream",
     "text": [
      "[16.732 16.504 13.018 ... 12.844 15.519 15.887]\n",
      "11.917835617870077 mse\n",
      "3.452221837870515 rmse\n",
      "0.23683619991682947 mape\n",
      "-0.008083187277827975 r2\n"
     ]
    },
    {
     "name": "stderr",
     "output_type": "stream",
     "text": [
      "c:\\Users\\nz423\\Code\\exploring-hydra-boosting\\.venv\\Lib\\site-packages\\sklearn\\metrics\\_regression.py:483: FutureWarning: 'squared' is deprecated in version 1.4 and will be removed in 1.6. To calculate the root mean squared error, use the function'root_mean_squared_error'.\n",
      "  warnings.warn(\n"
     ]
    }
   ],
   "source": [
    "# set_regressor can be used to find various regressors by string, but\n",
    "# any aeon, tsml or sklearn regressor can be used in the experiments function\n",
    "regressor = get_regressor_by_name(\"multirockethydra\")\n",
    "\n",
    "# record memory usage every 0.1 seconds, just here for notebook speed\n",
    "# does not need to be changed for usage\n",
    "experiments.MEMRECORD_INTERVAL = 0.1\n",
    "\n",
    "run_regression_experiment(\n",
    "    X_train,\n",
    "    y_train,\n",
    "    X_test,\n",
    "    y_test,\n",
    "    regressor,\n",
    "    \"results/\",\n",
    "    dataset_name=dataset_name,\n",
    "    resample_id=0,\n",
    ")\n",
    "\n",
    "rr = load_regressor_results(\n",
    "    current_dir / \"results\" / \"MultiRocketHydraRegressor\" / \"Predictions\" / dataset_name / \"testResample0.csv\"\n",
    ")\n",
    "print(rr.predictions)\n",
    "print(rr.mean_squared_error, \"mse\")\n",
    "print(rr.root_mean_squared_error, \"rmse\")\n",
    "print(rr.mean_absolute_percentage_error, \"mape\")\n",
    "print(rr.r2_score, \"r2\")"
   ]
  },
  {
   "cell_type": "markdown",
   "metadata": {},
   "source": [
    "## benchmark against other"
   ]
  },
  {
   "cell_type": "code",
   "execution_count": 11,
   "metadata": {},
   "outputs": [
    {
     "data": {
      "text/plain": [
       "{'InceptionT': {'CardanoSentiment': 0.3790249345482153,\n",
       "  'Covid3Month': 0.0547486330011963,\n",
       "  'FloodModeling1': 0.0066867519847921,\n",
       "  'FloodModeling2': 0.0043589524619258,\n",
       "  'NaturalGasPricesSentiment': 0.2406518450482171},\n",
       " 'FreshPRINCE': {'CardanoSentiment': 0.2894787944853637,\n",
       "  'Covid3Month': 0.0401913023459625,\n",
       "  'FloodModeling1': 0.0049994162451307,\n",
       "  'FloodModeling2': 0.0068567616393676,\n",
       "  'NaturalGasPricesSentiment': 0.054954074837973},\n",
       " 'DrCIF': {'CardanoSentiment': 0.3133879847892337,\n",
       "  'Covid3Month': 0.0430093286336655,\n",
       "  'FloodModeling1': 0.0060619965978605,\n",
       "  'FloodModeling2': 0.0061042553512311,\n",
       "  'NaturalGasPricesSentiment': 0.0534594028311273},\n",
       " 'Rocket': {'CardanoSentiment': 0.298395630925008,\n",
       "  'Covid3Month': 0.0388925990110909,\n",
       "  'FloodModeling1': 0.0138775273981996,\n",
       "  'FloodModeling2': 0.0113401395341792,\n",
       "  'NaturalGasPricesSentiment': 0.0916109339971527},\n",
       " 'RandF': {'CardanoSentiment': 0.3006768361627177,\n",
       "  'Covid3Month': 0.0425468061355052,\n",
       "  'FloodModeling1': 0.0158628246563847,\n",
       "  'FloodModeling2': 0.0144429711114909,\n",
       "  'NaturalGasPricesSentiment': 0.048485461103978},\n",
       " 'RotF': {'CardanoSentiment': 0.3223837225629858,\n",
       "  'Covid3Month': 0.0464330708041165,\n",
       "  'FloodModeling1': 0.0162800602238164,\n",
       "  'FloodModeling2': 0.0082871990314018,\n",
       "  'NaturalGasPricesSentiment': 0.053092033693262},\n",
       " 'XGBoost': {'CardanoSentiment': 0.3559531169404237,\n",
       "  'Covid3Month': 0.0455056686738088,\n",
       "  'FloodModeling1': 0.0162402874754935,\n",
       "  'FloodModeling2': 0.0182975378559483,\n",
       "  'NaturalGasPricesSentiment': 0.0502096334691803},\n",
       " 'Ridge': {'CardanoSentiment': 0.3890525427440788,\n",
       "  'Covid3Month': 0.482443462117518,\n",
       "  'FloodModeling1': 0.0180430972048682,\n",
       "  'FloodModeling2': 0.0190695858325751,\n",
       "  'NaturalGasPricesSentiment': 0.0758712858958666}}"
      ]
     },
     "execution_count": 11,
     "metadata": {},
     "output_type": "execute_result"
    }
   ],
   "source": [
    "datasets = [\n",
    "    \"CardanoSentiment\",\n",
    "    \"Covid3Month\",\n",
    "    \"FloodModeling1\",\n",
    "    \"FloodModeling2\",\n",
    "    \"NaturalGasPricesSentiment\",\n",
    "    #\"AustraliaRainfall\"\n",
    "]\n",
    "\n",
    "estimators = [\"InceptionT\", \"FreshPRINCE\", \"DrCIF\", \"Rocket\", \"RandF\", \"RotF\", \"XGBoost\", \"Ridge\"] #\"MultiRocket\"\n",
    "benchmarks = get_estimator_results(\n",
    "    datasets=datasets, estimators=estimators, task=\"regression\", measure=\"rmse\", path = current_dir / \"data\" / \"bench_regression_TSER\"\n",
    ")\n",
    "\n",
    "def add_regressor_to_benchmarks(\n",
    "    model_name: str,\n",
    "    regressor,\n",
    "    benchmarks: Dict,\n",
    "    ):\n",
    "    results = {}\n",
    "    for d in datasets:\n",
    "        train_X, train_y = load_regression(d, split=\"train\")\n",
    "        test_X, test_y = load_regression(d, split=\"test\")\n",
    "        regressor.fit(train_X, train_y)\n",
    "        y_pred = regressor.predict(test_X)\n",
    "        results[d] = root_mean_squared_error(test_y, y_pred)\n",
    "    benchmarks[model_name] = results\n",
    "    return results\n",
    "\n",
    "benchmarks"
   ]
  },
  {
   "cell_type": "code",
   "execution_count": 12,
   "metadata": {},
   "outputs": [
    {
     "data": {
      "text/plain": [
       "{'CardanoSentiment': 0.3002608403259928,\n",
       " 'Covid3Month': 0.04471992368682529,\n",
       " 'FloodModeling1': 0.018863328807814914,\n",
       " 'FloodModeling2': 0.018547996598852055,\n",
       " 'NaturalGasPricesSentiment': 0.09023204999410936}"
      ]
     },
     "execution_count": 12,
     "metadata": {},
     "output_type": "execute_result"
    }
   ],
   "source": [
    "add_regressor_to_benchmarks(\"Dummy\", DummyRegressor(), benchmarks) "
   ]
  },
  {
   "cell_type": "code",
   "execution_count": 13,
   "metadata": {},
   "outputs": [
    {
     "data": {
      "text/plain": [
       "{'CardanoSentiment': 1.8153677203317613,\n",
       " 'Covid3Month': 0.043102710239261786,\n",
       " 'FloodModeling1': 0.006149364257229762,\n",
       " 'FloodModeling2': 0.005322205252083211,\n",
       " 'NaturalGasPricesSentiment': 0.07471029613163488}"
      ]
     },
     "execution_count": 13,
     "metadata": {},
     "output_type": "execute_result"
    }
   ],
   "source": [
    "add_regressor_to_benchmarks(\"multirockethydra\", get_regressor_by_name(\"multirockethydra\"), benchmarks) "
   ]
  },
  {
   "cell_type": "code",
   "execution_count": 14,
   "metadata": {},
   "outputs": [
    {
     "data": {
      "text/html": [
       "<div>\n",
       "<style scoped>\n",
       "    .dataframe tbody tr th:only-of-type {\n",
       "        vertical-align: middle;\n",
       "    }\n",
       "\n",
       "    .dataframe tbody tr th {\n",
       "        vertical-align: top;\n",
       "    }\n",
       "\n",
       "    .dataframe thead th {\n",
       "        text-align: right;\n",
       "    }\n",
       "</style>\n",
       "<table border=\"1\" class=\"dataframe\">\n",
       "  <thead>\n",
       "    <tr style=\"text-align: right;\">\n",
       "      <th></th>\n",
       "      <th>InceptionT</th>\n",
       "      <th>FreshPRINCE</th>\n",
       "      <th>DrCIF</th>\n",
       "      <th>Rocket</th>\n",
       "      <th>RandF</th>\n",
       "      <th>RotF</th>\n",
       "      <th>XGBoost</th>\n",
       "      <th>Ridge</th>\n",
       "      <th>Dummy</th>\n",
       "      <th>multirockethydra</th>\n",
       "    </tr>\n",
       "  </thead>\n",
       "  <tbody>\n",
       "    <tr>\n",
       "      <th>CardanoSentiment</th>\n",
       "      <td>0.379025</td>\n",
       "      <td>0.289479</td>\n",
       "      <td>0.313388</td>\n",
       "      <td>0.298396</td>\n",
       "      <td>0.300677</td>\n",
       "      <td>0.322384</td>\n",
       "      <td>0.355953</td>\n",
       "      <td>0.389053</td>\n",
       "      <td>0.300261</td>\n",
       "      <td>1.815368</td>\n",
       "    </tr>\n",
       "    <tr>\n",
       "      <th>Covid3Month</th>\n",
       "      <td>0.054749</td>\n",
       "      <td>0.040191</td>\n",
       "      <td>0.043009</td>\n",
       "      <td>0.038893</td>\n",
       "      <td>0.042547</td>\n",
       "      <td>0.046433</td>\n",
       "      <td>0.045506</td>\n",
       "      <td>0.482443</td>\n",
       "      <td>0.044720</td>\n",
       "      <td>0.043103</td>\n",
       "    </tr>\n",
       "    <tr>\n",
       "      <th>FloodModeling1</th>\n",
       "      <td>0.006687</td>\n",
       "      <td>0.004999</td>\n",
       "      <td>0.006062</td>\n",
       "      <td>0.013878</td>\n",
       "      <td>0.015863</td>\n",
       "      <td>0.016280</td>\n",
       "      <td>0.016240</td>\n",
       "      <td>0.018043</td>\n",
       "      <td>0.018863</td>\n",
       "      <td>0.006149</td>\n",
       "    </tr>\n",
       "    <tr>\n",
       "      <th>FloodModeling2</th>\n",
       "      <td>0.004359</td>\n",
       "      <td>0.006857</td>\n",
       "      <td>0.006104</td>\n",
       "      <td>0.011340</td>\n",
       "      <td>0.014443</td>\n",
       "      <td>0.008287</td>\n",
       "      <td>0.018298</td>\n",
       "      <td>0.019070</td>\n",
       "      <td>0.018548</td>\n",
       "      <td>0.005322</td>\n",
       "    </tr>\n",
       "    <tr>\n",
       "      <th>NaturalGasPricesSentiment</th>\n",
       "      <td>0.240652</td>\n",
       "      <td>0.054954</td>\n",
       "      <td>0.053459</td>\n",
       "      <td>0.091611</td>\n",
       "      <td>0.048485</td>\n",
       "      <td>0.053092</td>\n",
       "      <td>0.050210</td>\n",
       "      <td>0.075871</td>\n",
       "      <td>0.090232</td>\n",
       "      <td>0.074710</td>\n",
       "    </tr>\n",
       "  </tbody>\n",
       "</table>\n",
       "</div>"
      ],
      "text/plain": [
       "                           InceptionT  FreshPRINCE     DrCIF    Rocket  \\\n",
       "CardanoSentiment             0.379025     0.289479  0.313388  0.298396   \n",
       "Covid3Month                  0.054749     0.040191  0.043009  0.038893   \n",
       "FloodModeling1               0.006687     0.004999  0.006062  0.013878   \n",
       "FloodModeling2               0.004359     0.006857  0.006104  0.011340   \n",
       "NaturalGasPricesSentiment    0.240652     0.054954  0.053459  0.091611   \n",
       "\n",
       "                              RandF      RotF   XGBoost     Ridge     Dummy  \\\n",
       "CardanoSentiment           0.300677  0.322384  0.355953  0.389053  0.300261   \n",
       "Covid3Month                0.042547  0.046433  0.045506  0.482443  0.044720   \n",
       "FloodModeling1             0.015863  0.016280  0.016240  0.018043  0.018863   \n",
       "FloodModeling2             0.014443  0.008287  0.018298  0.019070  0.018548   \n",
       "NaturalGasPricesSentiment  0.048485  0.053092  0.050210  0.075871  0.090232   \n",
       "\n",
       "                           multirockethydra  \n",
       "CardanoSentiment                   1.815368  \n",
       "Covid3Month                        0.043103  \n",
       "FloodModeling1                     0.006149  \n",
       "FloodModeling2                     0.005322  \n",
       "NaturalGasPricesSentiment          0.074710  "
      ]
     },
     "execution_count": 14,
     "metadata": {},
     "output_type": "execute_result"
    }
   ],
   "source": [
    "\n",
    "table = pd.DataFrame(benchmarks)\n",
    "table"
   ]
  },
  {
   "cell_type": "code",
   "execution_count": 15,
   "metadata": {},
   "outputs": [
    {
     "name": "stderr",
     "output_type": "stream",
     "text": [
      "C:\\Users\\nz423\\AppData\\Local\\Temp\\ipykernel_7764\\418295115.py:4: UserWarning: FigureCanvasAgg is non-interactive, and thus cannot be shown\n",
      "  plt.show()\n"
     ]
    },
    {
     "data": {
      "image/png": "[encoded data removed]",
      "text/plain": [
       "<Figure size 600x290 with 1 Axes>"
      ]
     },
     "metadata": {},
     "output_type": "display_data"
    }
   ],
   "source": [
    "plt, _ = plot_critical_difference(\n",
    "    np.array(table), list(table.columns), lower_better=True\n",
    ")\n",
    "plt.show()"
   ]
  },
  {
   "cell_type": "markdown",
   "metadata": {},
   "source": [
    "# Classifier"
   ]
  },
  {
   "cell_type": "code",
   "execution_count": 16,
   "metadata": {},
   "outputs": [],
   "source": [
    "# TODO whats the proper way to load the TSC results? same library?"
   ]
  },
  {
   "cell_type": "markdown",
   "metadata": {},
   "source": [
    "# Make my own class\n",
    "\n",
    "\n",
    "\n",
    "Features:\n",
    "* For now only do wide not deep representation boosting\n",
    "* percentage of dataset to be used at each boosting iteration\n",
    "* Batching to calculate random features\n",
    "* Do i need batching for least squares?\n",
    "* What solver to use for least squares?\n",
    "* How to initialize Phi_0? Should i use different n_features for the initial guess? Use all data for initial?\n",
    "\n",
    "\n",
    "\n",
    "Would be interesting to see difference between boosting in label space vs representation boosting"
   ]
  },
  {
   "cell_type": "markdown",
   "metadata": {},
   "source": []
  }
 ],
 "metadata": {
  "kernelspec": {
   "display_name": ".venv",
   "language": "python",
   "name": "python3"
  },
  "language_info": {
   "codemirror_mode": {
    "name": "ipython",
    "version": 3
   },
   "file_extension": ".py",
   "mimetype": "text/x-python",
   "name": "python",
   "nbconvert_exporter": "python",
   "pygments_lexer": "ipython3",
   "version": "3.11.9"
  }
 },
 "nbformat": 4,
 "nbformat_minor": 2
}
